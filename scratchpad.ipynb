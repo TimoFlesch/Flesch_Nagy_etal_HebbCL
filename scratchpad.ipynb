{
 "cells": [
  {
   "cell_type": "code",
   "execution_count": 9,
   "metadata": {},
   "outputs": [],
   "source": [
    "import numpy as np\n",
    "from scipy.io import loadmat \n",
    "import pickle \n",
    "import pandas as pd \n",
    "import matplotlib.pyplot as plt \n",
    "import seaborn as sns \n",
    "from mpl_toolkits.axes_grid1 import ImageGrid"
   ]
  },
  {
   "cell_type": "code",
   "execution_count": 2,
   "metadata": {},
   "outputs": [],
   "source": [
    "# load choice matrices \n",
    "cmats = loadmat('datasets/human_choices.mat')"
   ]
  },
  {
   "cell_type": "code",
   "execution_count": 8,
   "metadata": {},
   "outputs": [
    {
     "data": {
      "text/plain": [
       "<matplotlib.colorbar.Colorbar at 0x7fc62c1defd0>"
      ]
     },
     "execution_count": 8,
     "metadata": {},
     "output_type": "execute_result"
    },
    {
     "data": {
      "image/png": "[encoded data removed]",
      "text/plain": [
       "<Figure size 720x720 with 5 Axes>"
      ]
     },
     "metadata": {
      "needs_background": "light"
     },
     "output_type": "display_data"
    }
   ],
   "source": [
    "cmats.keys()\n",
    "plt.figure(figsize=(10,10))\n",
    "plt.subplot(2,2,1)\n",
    "plt.imshow(cmats['cmat_b_north'].mean(0))\n",
    "plt.title('Blocked - Task A')\n",
    "\n",
    "plt.subplot(2,2,2)\n",
    "plt.imshow(cmats['cmat_b_south'].mean(0))\n",
    "plt.title('Blocked - Task B')\n",
    "\n",
    "plt.subplot(2,2,3)\n",
    "plt.imshow(cmats['cmat_i_north'].mean(0))\n",
    "plt.title('Interleaved - Task A')\n",
    "\n",
    "plt.subplot(2,2,4)\n",
    "plt.imshow(cmats['cmat_i_south'].mean(0))\n",
    "plt.title('Interleaved - Task B')\n"
   ]
  },
  {
   "cell_type": "code",
   "execution_count": 56,
   "metadata": {},
   "outputs": [
    {
     "ename": "NameError",
     "evalue": "name 'mk_block_humanchoices' is not defined",
     "output_type": "error",
     "traceback": [
      "\u001b[0;31m---------------------------------------------------------------------------\u001b[0m",
      "\u001b[0;31mNameError\u001b[0m                                 Traceback (most recent call last)",
      "\u001b[0;32m<ipython-input-56-150f4b4e7f78>\u001b[0m in \u001b[0;36m<module>\u001b[0;34m\u001b[0m\n\u001b[1;32m      2\u001b[0m \u001b[0;31m# from utils.data import mk_block_humanchoices\u001b[0m\u001b[0;34m\u001b[0m\u001b[0;34m\u001b[0m\u001b[0;34m\u001b[0m\u001b[0m\n\u001b[1;32m      3\u001b[0m \u001b[0;34m\u001b[0m\u001b[0m\n\u001b[0;32m----> 4\u001b[0;31m \u001b[0mx\u001b[0m\u001b[0;34m,\u001b[0m\u001b[0my\u001b[0m\u001b[0;34m,\u001b[0m\u001b[0m_\u001b[0m \u001b[0;34m=\u001b[0m \u001b[0mmk_block_humanchoices\u001b[0m\u001b[0;34m(\u001b[0m\u001b[0;34m'task_b'\u001b[0m\u001b[0;34m,\u001b[0m\u001b[0;32mFalse\u001b[0m\u001b[0;34m,\u001b[0m\u001b[0mlabels_a\u001b[0m\u001b[0;34m=\u001b[0m\u001b[0mcmats\u001b[0m\u001b[0;34m[\u001b[0m\u001b[0;34m'cmat_b_north'\u001b[0m\u001b[0;34m]\u001b[0m\u001b[0;34m.\u001b[0m\u001b[0mmean\u001b[0m\u001b[0;34m(\u001b[0m\u001b[0;36m0\u001b[0m\u001b[0;34m)\u001b[0m\u001b[0;34m.\u001b[0m\u001b[0mflatten\u001b[0m\u001b[0;34m(\u001b[0m\u001b[0;34m)\u001b[0m\u001b[0;34m)\u001b[0m\u001b[0;34m\u001b[0m\u001b[0;34m\u001b[0m\u001b[0m\n\u001b[0m",
      "\u001b[0;31mNameError\u001b[0m: name 'mk_block_humanchoices' is not defined"
     ]
    }
   ],
   "source": [
    "from utils.data import *\n",
    "# from utils.data import mk_block_humanchoices\n",
    "\n",
    "x,y,_ = mk_block_humanchoices('task_b',False,labels_a=cmats['cmat_b_north'].mean(0).flatten())"
   ]
  },
  {
   "cell_type": "code",
   "execution_count": 50,
   "metadata": {},
   "outputs": [
    {
     "data": {
      "text/plain": [
       "array([0.00520833, 0.00520833, 0.02604167, 0.08333333, 0.09895833,\n",
       "       0.01041667, 0.02083333, 0.04166667, 0.09375   , 0.11458333,\n",
       "       0.25520833, 0.30729167, 0.28125   , 0.39583333, 0.453125  ,\n",
       "       0.78125   , 0.85416667, 0.84375   , 0.921875  , 0.91666667,\n",
       "       0.86979167, 0.88541667, 0.953125  , 0.953125  , 0.97395833,\n",
       "       0.00520833, 0.00520833, 0.02604167, 0.08333333, 0.09895833,\n",
       "       0.01041667, 0.02083333, 0.04166667, 0.09375   , 0.11458333,\n",
       "       0.25520833, 0.30729167, 0.28125   , 0.39583333, 0.453125  ,\n",
       "       0.78125   , 0.85416667, 0.84375   , 0.921875  , 0.91666667,\n",
       "       0.86979167, 0.88541667, 0.953125  , 0.953125  , 0.97395833,\n",
       "       0.00520833, 0.00520833, 0.02604167, 0.08333333, 0.09895833,\n",
       "       0.01041667, 0.02083333, 0.04166667, 0.09375   , 0.11458333,\n",
       "       0.25520833, 0.30729167, 0.28125   , 0.39583333, 0.453125  ,\n",
       "       0.78125   , 0.85416667, 0.84375   , 0.921875  , 0.91666667,\n",
       "       0.86979167, 0.88541667, 0.953125  , 0.953125  , 0.97395833,\n",
       "       0.00520833, 0.00520833, 0.02604167, 0.08333333, 0.09895833,\n",
       "       0.01041667, 0.02083333, 0.04166667, 0.09375   , 0.11458333,\n",
       "       0.25520833, 0.30729167, 0.28125   , 0.39583333, 0.453125  ,\n",
       "       0.78125   , 0.85416667, 0.84375   , 0.921875  , 0.91666667,\n",
       "       0.86979167, 0.88541667, 0.953125  , 0.953125  , 0.97395833,\n",
       "       0.00520833, 0.00520833, 0.02604167, 0.08333333, 0.09895833,\n",
       "       0.01041667, 0.02083333, 0.04166667, 0.09375   , 0.11458333,\n",
       "       0.25520833, 0.30729167, 0.28125   , 0.39583333, 0.453125  ,\n",
       "       0.78125   , 0.85416667, 0.84375   , 0.921875  , 0.91666667,\n",
       "       0.86979167, 0.88541667, 0.953125  , 0.953125  , 0.97395833])"
      ]
     },
     "execution_count": 50,
     "metadata": {},
     "output_type": "execute_result"
    }
   ],
   "source": [
    "y"
   ]
  },
  {
   "cell_type": "code",
   "execution_count": null,
   "metadata": {},
   "outputs": [],
   "source": []
  }
 ],
 "metadata": {
  "interpreter": {
   "hash": "64f815fd2451323d4058f316d300a9f90cf7498de98c2d0f836409ae17c2e5a0"
  },
  "kernelspec": {
   "display_name": "Python 3.7.10 64-bit ('pytorch': conda)",
   "name": "python3"
  },
  "language_info": {
   "codemirror_mode": {
    "name": "ipython",
    "version": 3
   },
   "file_extension": ".py",
   "mimetype": "text/x-python",
   "name": "python",
   "nbconvert_exporter": "python",
   "pygments_lexer": "ipython3",
   "version": "3.7.10"
  },
  "orig_nbformat": 4
 },
 "nbformat": 4,
 "nbformat_minor": 2
}
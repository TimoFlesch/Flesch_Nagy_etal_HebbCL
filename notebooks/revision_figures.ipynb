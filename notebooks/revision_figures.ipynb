{
 "cells": [
  {
   "cell_type": "code",
   "execution_count": null,
   "metadata": {},
   "outputs": [],
   "source": [
    "%load_ext autoreload\n",
    "%autoreload 2\n",
    "\n",
    "import os, sys\n",
    "import numpy as np\n",
    "import matplotlib.pyplot as plt\n",
    "root_path = os.path.realpath('../')\n",
    "sys.path.append(root_path)\n",
    "from utils import eval, choicemodel, plotting\n",
    "from hebbcl.parameters import parser\n",
    "\n",
    "plt.rcParams['svg.fonttype'] = 'none'\n",
    "plt.rcParams['pdf.use14corefonts'] = True\n"
   ]
  },
  {
   "cell_type": "markdown",
   "metadata": {},
   "source": [
    "## Figure 1: Experiment design and baselines"
   ]
  },
  {
   "cell_type": "code",
   "execution_count": null,
   "metadata": {},
   "outputs": [],
   "source": [
    "%matplotlib inline\n",
    "plotting.plot_basicstats(models=[\"baseline_interleaved_new_select\", \"baseline_blocked_new_select\"], n_epochs=200)"
   ]
  },
  {
   "cell_type": "code",
   "execution_count": null,
   "metadata": {},
   "outputs": [],
   "source": [
    "plotting.plot_mds(filename_embedding=\"mds_embedding_baseline_int_new\",filename_runs= \"baseline_interleaved_new_select\", thetas=(40,0,10), layer=\"all_y_hidden\", n_runs=50, resultsdir=\"../results/\")\n"
   ]
  },
  {
   "cell_type": "code",
   "execution_count": null,
   "metadata": {},
   "outputs": [],
   "source": [
    "\n",
    "plotting.plot_mds(filename_embedding=\"mds_embedding_baseline_blocked_new\", filename_runs = \"baseline_blocked_new_select\", thetas=(-10,-10, -70), layer=\"all_y_hidden\", n_runs=50, resultsdir=\"../results/\")\n",
    "\n"
   ]
  },
  {
   "cell_type": "markdown",
   "metadata": {},
   "source": [
    "## Figure 2: The cost of interleaving"
   ]
  },
  {
   "cell_type": "code",
   "execution_count": null,
   "metadata": {},
   "outputs": [],
   "source": [
    "# choice matrix models\n",
    "\n",
    "%matplotlib inline\n",
    "_,_,cmats = eval.gen_behav_models()\n",
    "\n",
    "f,ax = plt.subplots(2,2, figsize=(2,2),dpi=300)\n",
    "for i in range(2):\n",
    "    for j in range(2):\n",
    "        ax[i,j].imshow(np.flipud(cmats[i,j,:,:]))\n",
    "        if j<1:\n",
    "            ax[i,j].set(xlabel='rel',ylabel='irrel')\n",
    "        else:\n",
    "            ax[i,j].set(xlabel='irrel',ylabel='rel')\n",
    "        ax[i,j].set_xticks([])\n",
    "        ax[i,j].set_yticks([])\n"
   ]
  },
  {
   "cell_type": "code",
   "execution_count": null,
   "metadata": {},
   "outputs": [],
   "source": [
    "# accuracy (sluggishness)\n",
    "% matplotlib inline\n",
    "\n",
    "plotting.plot_sluggish_results(filename=\"sluggish_baseline_int_select_sv\")"
   ]
  },
  {
   "cell_type": "markdown",
   "metadata": {},
   "source": [
    "## Figure 3: continual learning with manual gating"
   ]
  },
  {
   "cell_type": "code",
   "execution_count": null,
   "metadata": {},
   "outputs": [],
   "source": [
    "plotting.plot_basicstats(models = \"gated_blocked_new_select_cent\")"
   ]
  },
  {
   "cell_type": "code",
   "execution_count": null,
   "metadata": {},
   "outputs": [],
   "source": [
    "plotting.plot_mds(filename_embedding=\"mds_embedding_gated_blocked_new\",filename_runs= \"gated_blocked_new_select_cent\", thetas=(-20,-20,-150), layer=\"all_y_hidden\", n_runs=50, resultsdir=\"../results/\")\n"
   ]
  },
  {
   "cell_type": "markdown",
   "metadata": {},
   "source": [
    "## Figure 4: Hebbian learning of context weights (Oja on all hidden units)"
   ]
  },
  {
   "cell_type": "code",
   "execution_count": null,
   "metadata": {},
   "outputs": [],
   "source": [
    "# todo load individual runs and kick out the ones that did not converge, re-run those\n",
    "import pickle\n",
    "accs = {}\n",
    "for r in range(0,50):\n",
    "    with open(f\"../checkpoints/blobs_asha_200episodes_blocked_ojaall_1ctx_4/run_{r}/results.pkl\",\"rb\") as f:\n",
    "        data = pickle.load(f)\n",
    "    accs[r] = data[\"acc_1st\"][-1]\n",
    "badruns = []\n",
    "for k,v in accs.items():\n",
    "    if v < 0.95:\n",
    "        print(f\"{k}: {v:.2}\")\n",
    "        badruns.append(k)"
   ]
  },
  {
   "cell_type": "code",
   "execution_count": null,
   "metadata": {},
   "outputs": [],
   "source": [
    "from hebbcl.tuner import load_tuner_results\n",
    "import argparse\n",
    "# 1. load config\n",
    "filepath = \"../results/\"\n",
    "datapath = \"../datasets/\"\n",
    "whichtrial = 0\n",
    "filename = \"blobs_asha_200episodes_interleaved_ojaall_1ctx\"\n",
    "results = load_tuner_results(filename, filepath)\n",
    "args = argparse.Namespace(**results[\"config\"])\n",
    "df = results[\"df\"].sort_values(\"mean_loss\")\n",
    "params = [\"config.lrate_sgd\", \"config.lrate_hebb\", \"config.ctx_scaling\"]\n",
    "hps = dict(df[[c for c in df.columns if c in params]].iloc[whichtrial, :])\n",
    "for k, v in hps.items():\n",
    "    setattr(args, k.split(\".\")[1], v)\n",
    "\n",
    "args.save_dir = filename if whichtrial == 0 else filename + \"_\" + str(whichtrial)\n",
    "\n",
    "\n",
    "# n_jobs = 6\n",
    "# from hebbcl.tuner import execute_run\n",
    "# from joblib import Parallel, delayed \n",
    "# import numpy as np\n",
    "# seeds = np.random.randint(np.iinfo(np.int32).max, size=args.n_runs)\n",
    "# Parallel(n_jobs=n_jobs, verbose=10)(\n",
    "#     delayed(execute_run)(\n",
    "#         i_run,\n",
    "#         np.random.randint(np.iinfo(np.int32).max),\n",
    "#         args,\n",
    "#         dataset_id=\"blobs\",\n",
    "#         filepath=datapath,\n",
    "#         filesuffix=\"_ds18\",\n",
    "#     )\n",
    "#     for i_run in badruns\n",
    "# )\n",
    "dict(sorted(vars(args).items()))"
   ]
  },
  {
   "cell_type": "code",
   "execution_count": null,
   "metadata": {},
   "outputs": [],
   "source": [
    "plotting.biplot_dataset(ds=\"blobs\",ctx_scaling=6)"
   ]
  },
  {
   "cell_type": "code",
   "execution_count": null,
   "metadata": {},
   "outputs": [],
   "source": [
    "plotting.plot_oja(n_hidden=1, ds=\"blobs\")"
   ]
  },
  {
   "cell_type": "code",
   "execution_count": null,
   "metadata": {},
   "outputs": [],
   "source": [
    "plotting.plot_oja(n_hidden=1, ds=\"trees\")"
   ]
  },
  {
   "cell_type": "code",
   "execution_count": null,
   "metadata": {},
   "outputs": [],
   "source": [
    "plotting.plot_basicstats(models=[\"blobs_asha_200episodes_blocked_ojaall_1ctx_4\"])"
   ]
  },
  {
   "cell_type": "code",
   "execution_count": null,
   "metadata": {},
   "outputs": [],
   "source": [
    "plotting.plot_mds(filename_embedding = \"mds_blobs_asha_200episodes_blocked_ojaall_1ctx_4\", \n",
    "filename_runs=\"blobs_asha_200episodes_blocked_ojaall_1ctx_4\", thetas = (70,-15,-10),axlims=8.5)\n"
   ]
  },
  {
   "cell_type": "markdown",
   "metadata": {},
   "source": [
    "## Figure 5: Modelling human learning with Oja + EMA (8 episodes)"
   ]
  },
  {
   "cell_type": "markdown",
   "metadata": {},
   "source": [
    "### HP Grid Search"
   ]
  },
  {
   "cell_type": "code",
   "execution_count": null,
   "metadata": {},
   "outputs": [],
   "source": [
    "plotting.plot_gridsearch_modelvalidation(model_int=\"blobs_revision_8episodes_sluggish_interleaved_oja_sv\", model_blocked=\"blobs_revision_8episodes_sluggish_blocked_oja_sv\",sluggish_vals = np.linspace(0.05, 1, 30))"
   ]
  },
  {
   "cell_type": "code",
   "execution_count": null,
   "metadata": {},
   "outputs": [],
   "source": [
    "plotting.plot_gridsearch_singlesubjects(model_int=\"blobs_revision_8episodes_sluggish_interleaved_oja_sv\", model_blocked=\"blobs_revision_8episodes_sluggish_blocked_oja_sv\",sluggish_vals = np.linspace(0.05, 1, 30))"
   ]
  },
  {
   "cell_type": "code",
   "execution_count": null,
   "metadata": {},
   "outputs": [],
   "source": [
    "plotting.plot_gridsearch_group(model_int=\"blobs_revision_8episodes_sluggish_interleaved_oja_sv\", model_blocked=\"blobs_revision_8episodes_sluggish_blocked_oja_sv\",sluggish_vals = np.linspace(0.05, 1, 30))"
   ]
  },
  {
   "cell_type": "markdown",
   "metadata": {},
   "source": [
    "### Accuracy"
   ]
  },
  {
   "cell_type": "code",
   "execution_count": null,
   "metadata": {},
   "outputs": [],
   "source": [
    "plotting.plot_modelcomparison_accuracy(\n",
    "    baseline_models=[\"blobs_revision_8episodes_interleaved_vanilla\",\"blobs_revision_8episodes_blocked_vanilla\"],\n",
    "    hebb_models=[\"blobs_revision_8episodes_sluggish_interleaved_oja_sv\",\"blobs_revision_8episodes_blocked_oja\"],\n",
    "    sluggish_vals=np.round(np.linspace(0.05,1,30),2),sluggishness=0.51,slope_blocked=12,slope_int=12)"
   ]
  },
  {
   "cell_type": "markdown",
   "metadata": {},
   "source": [
    "### Sigmoids"
   ]
  },
  {
   "cell_type": "code",
   "execution_count": null,
   "metadata": {},
   "outputs": [],
   "source": [
    "betas = plotting.plot_modelcomparison_sigmoids(\n",
    "    baseline_models=[\"blobs_revision_8episodes_interleaved_vanilla\",\"blobs_revision_8episodes_blocked_vanilla\"],\n",
    "    hebb_models=[\"blobs_revision_8episodes_sluggish_interleaved_oja_sv\",\"blobs_revision_8episodes_blocked_oja\"],\n",
    "    sluggish_vals=np.round(np.linspace(0.05,1,30),2),sluggishness=0.51,slope_blocked=12,slope_int=12)"
   ]
  },
  {
   "cell_type": "code",
   "execution_count": null,
   "metadata": {},
   "outputs": [],
   "source": [
    "plotting.plot_modelcomparison_betas(betas)"
   ]
  },
  {
   "cell_type": "markdown",
   "metadata": {},
   "source": [
    "### Choice Matrices"
   ]
  },
  {
   "cell_type": "code",
   "execution_count": null,
   "metadata": {},
   "outputs": [],
   "source": [
    "cmats = plotting.plot_modelcomparison_choicemats(\n",
    "    baseline_models=[\"blobs_revision_8episodes_interleaved_vanilla\",\"blobs_revision_8episodes_blocked_vanilla\"],\n",
    "    hebb_models=[\"blobs_revision_8episodes_sluggish_interleaved_oja_sv\",\"blobs_revision_8episodes_blocked_oja\"],\n",
    "    sluggish_vals=np.round(np.linspace(0.05,1,30),2),sluggishness=0.51,slope_blocked=12,slope_int=12)"
   ]
  },
  {
   "cell_type": "markdown",
   "metadata": {},
   "source": [
    "### Psychophysical Model"
   ]
  },
  {
   "cell_type": "code",
   "execution_count": null,
   "metadata": {},
   "outputs": [],
   "source": [
    "plotting.plot_modelcomparison_choicemodel(\n",
    "    baseline_models=[\"blobs_revision_8episodes_interleaved_vanilla\",\"blobs_revision_8episodes_blocked_vanilla\"],\n",
    "    hebb_models=[\"blobs_revision_8episodes_sluggish_interleaved_oja_sv\",\"blobs_revision_8episodes_blocked_oja\"],\n",
    "    sluggish_vals=np.round(np.linspace(0.05,1,30),2),sluggishness=0.51,slope_blocked=12,slope_int=12)"
   ]
  },
  {
   "cell_type": "markdown",
   "metadata": {},
   "source": [
    "### Congruency Effect"
   ]
  },
  {
   "cell_type": "code",
   "execution_count": null,
   "metadata": {},
   "outputs": [],
   "source": [
    "plotting.plot_modelcomparison_congruency(cmats)"
   ]
  },
  {
   "cell_type": "markdown",
   "metadata": {},
   "source": [
    "## Figure 6: Neural predictions"
   ]
  },
  {
   "cell_type": "markdown",
   "metadata": {},
   "source": [
    "### Hidden Layer RSA\n",
    "Fit grid, orthogonal and diagonal model to data.  \n",
    "Prediction: Orthogonal best in blocked, diagonal best in interleaved group"
   ]
  },
  {
   "cell_type": "code",
   "execution_count": null,
   "metadata": {},
   "outputs": [],
   "source": [
    "np.round(np.linspace(0.05,1,30),2)"
   ]
  },
  {
   "cell_type": "code",
   "execution_count": null,
   "metadata": {},
   "outputs": [],
   "source": [
    "betas = plotting.plot_modelcomparison_hiddenlayerRSA(    \n",
    "    hebb_models=[\"blobs_revision_8episodes_sluggish_interleaved_oja_sv\",\"blobs_revision_8episodes_blocked_oja\"],\n",
    "    sluggish_vals=np.round(np.linspace(0.05,1,30),2))"
   ]
  },
  {
   "cell_type": "markdown",
   "metadata": {},
   "source": [
    "### Task Selectivity (%)"
   ]
  },
  {
   "cell_type": "code",
   "execution_count": null,
   "metadata": {},
   "outputs": [],
   "source": [
    "plotting.plot_modelcomparison_taskselectivity(    \n",
    "    hebb_models=[\"blobs_revision_8episodes_sluggish_interleaved_oja_sv\",\"blobs_revision_8episodes_blocked_oja\"],\n",
    "    sluggish_vals=np.round(np.linspace(0.05,1,30),2),sluggishness=0.51)"
   ]
  },
  {
   "cell_type": "markdown",
   "metadata": {},
   "source": [
    "### Receptive fields of hidden layer weights"
   ]
  },
  {
   "cell_type": "code",
   "execution_count": null,
   "metadata": {},
   "outputs": [],
   "source": [
    "# blocked: show that task selective aligned with rel dims, task agnostic aligned with diagonal\n",
    "# interleaved: ditto"
   ]
  },
  {
   "cell_type": "markdown",
   "metadata": {},
   "source": [
    "### Ablation study"
   ]
  },
  {
   "cell_type": "code",
   "execution_count": null,
   "metadata": {},
   "outputs": [],
   "source": [
    "# blocked: show that removing task agnostic impairs performance less than removing task selective units \n",
    "# interleaved: ditto"
   ]
  },
  {
   "cell_type": "markdown",
   "metadata": {},
   "source": [
    "### Readout Magnitude"
   ]
  },
  {
   "cell_type": "code",
   "execution_count": null,
   "metadata": {},
   "outputs": [],
   "source": [
    "plotting.plot_modelcomparison_readout(    \n",
    "    hebb_models=[\"blobs_revision_8episodes_sluggish_interleaved_oja_sv\",\"blobs_revision_8episodes_blocked_oja\"],\n",
    "    sluggish_vals=np.round(np.linspace(0.05,1,30),2),sluggishness=0.51)"
   ]
  },
  {
   "cell_type": "code",
   "execution_count": null,
   "metadata": {},
   "outputs": [],
   "source": [
    "%matplotlib inline\n",
    "plotting.plot_basicstats(models=[\"blobs_revision_8episodes_interleaved_oja\", \"blobs_revision_8episodes_blocked_oja\"], n_epochs=8)\n",
    "\n"
   ]
  },
  {
   "cell_type": "code",
   "execution_count": null,
   "metadata": {},
   "outputs": [],
   "source": [
    "plotting.plot_mds(\n",
    "    filename_embedding=\"mds_embeddingblobs_revision_8episodes_interleaved_oja\",\n",
    "    filename_runs= \"blobs_revision_8episodes_interleaved_oja\", thetas=(105,-50,0), \n",
    "    layer=\"all_y_hidden\", n_runs=50, resultsdir=\"../results/\")\n",
    "\n"
   ]
  },
  {
   "cell_type": "code",
   "execution_count": null,
   "metadata": {},
   "outputs": [],
   "source": [
    "\n",
    "plotting.plot_mds(\n",
    "    filename_embedding=\"mds_embedding_blobs_revision_8episodes_blocked_oja\", \n",
    "    filename_runs = \"blobs_revision_8episodes_blocked_oja\", \n",
    "    thetas=(10,40,-70), layer=\"all_y_hidden\", n_runs=50, resultsdir=\"../results/\",axlims=7)\n"
   ]
  },
  {
   "cell_type": "markdown",
   "metadata": {},
   "source": [
    "## Figure S1: Impact of training duration\n"
   ]
  },
  {
   "cell_type": "markdown",
   "metadata": {},
   "source": [
    "todo: show vanilla and hebb network side by side, with different training length:  \n",
    "- a/ barplot a/b performance, x-axis training length\n",
    "- b/ same but with vanilla network"
   ]
  },
  {
   "cell_type": "code",
   "execution_count": null,
   "metadata": {},
   "outputs": [],
   "source": [
    "%matplotlib inline\n",
    "plotting.plot_neps_impact(whichruns=\"oja\")\n",
    "plotting.plot_neps_impact(whichruns=\"vanilla\")"
   ]
  },
  {
   "cell_type": "markdown",
   "metadata": {},
   "source": [
    "## Figure S2: Replication with fewer trials"
   ]
  },
  {
   "cell_type": "markdown",
   "metadata": {},
   "source": [
    "a/ learning curves\n",
    "b/ choice matrices\n",
    "c/ context weight corr?\n",
    "d/ hidden layer mds"
   ]
  },
  {
   "cell_type": "code",
   "execution_count": null,
   "metadata": {},
   "outputs": [],
   "source": [
    "\n",
    "plotting.plot_basicstats(models=[\"blobs_revision_8episodes_interleaved_vanilla\", \"blobs_revision_8episodes_blocked_vanilla\"], n_epochs=8,fixtreesbug=False,n_runs=50)"
   ]
  },
  {
   "cell_type": "code",
   "execution_count": null,
   "metadata": {},
   "outputs": [],
   "source": [
    "plotting.plot_basicstats(models=[\"blobs_revision_8episodes_blocked_oja\"], n_epochs=8,fixtreesbug=False,n_runs=50)"
   ]
  },
  {
   "cell_type": "code",
   "execution_count": null,
   "metadata": {},
   "outputs": [],
   "source": [
    "#mds interleaved 8episodes\n",
    "plotting.plot_mds(\n",
    "    filename_embedding=\"mds_embedding_blobs_revision_8episodes_interleaved_vanilla\",\n",
    "    filename_runs= \"blobs_revision_8episodes_interleaved_vanilla\", thetas=(5,70,5), \n",
    "    layer=\"all_y_hidden\", n_runs=50, resultsdir=\"../results/\",fixtreesbug=True,axlims=3.5)"
   ]
  },
  {
   "cell_type": "code",
   "execution_count": null,
   "metadata": {},
   "outputs": [],
   "source": [
    "# mds blocked vanilla 8 episodes\n",
    "plotting.plot_mds(\n",
    "    filename_embedding=\"mds_embedding_blobs_revision_8episodes_blocked_vanilla\",\n",
    "    filename_runs= \"blobs_revision_8episodes_blocked_vanilla\", thetas=(45,0,240), \n",
    "    layer=\"all_y_hidden\", n_runs=50, resultsdir=\"../results/\",fixtreesbug=True,axlims=3.5)"
   ]
  },
  {
   "cell_type": "code",
   "execution_count": null,
   "metadata": {},
   "outputs": [],
   "source": [
    "# mds blocked oja 8 episodes\n",
    "plotting.plot_mds(\n",
    "    filename_embedding=\"mds_embedding_blobs_revision_8episodes_blocked_oja\",\n",
    "    filename_runs= \"blobs_revision_8episodes_blocked_oja\", thetas=(-10,170,90), \n",
    "    layer=\"all_y_hidden\", n_runs=50, resultsdir=\"../results/\",fixtreesbug=True,axlims=6)"
   ]
  },
  {
   "cell_type": "markdown",
   "metadata": {},
   "source": [
    "## Figure S3: Replication of key findings with RGB inputs\n",
    "1. task design\n",
    "- trees space (show mini trees)\n",
    "- neural network architecture (2 hidden)\n",
    "2. baseline models and hebb side by side\n",
    "- learning curves\n",
    "- task selectivity\n",
    "- context corr\n",
    "- outputs\n",
    "- mds\n",
    "3. fit to human data"
   ]
  },
  {
   "cell_type": "code",
   "execution_count": null,
   "metadata": {},
   "outputs": [],
   "source": [
    "%matplotlib inline\n",
    "plotting.plot_basicstats(models=[\"trees_asha_interleaved_ojactx_1ctx\", \"trees_asha_blocked_ojactx_1ctx\"], n_epochs=50,fixtreesbug=True,n_runs=50)"
   ]
  },
  {
   "cell_type": "code",
   "execution_count": null,
   "metadata": {},
   "outputs": [],
   "source": [
    "plotting.plot_mds(\n",
    "    filename_embedding=\"mds_embedding_trees_asha_interleaved_ojactx_1ctx_yhidden\",\n",
    "    filename_runs= \"trees_asha_interleaved_ojactx_1ctx\", thetas=(125,0,45), \n",
    "    layer=\"all_y_hidden\", n_runs=50, resultsdir=\"../results/\",fixtreesbug=True,axlims=8,flipdims=True)"
   ]
  },
  {
   "cell_type": "code",
   "execution_count": null,
   "metadata": {},
   "outputs": [],
   "source": [
    "plotting.plot_mds(\n",
    "    filename_embedding=\"mds_embedding_trees_asha_interleaved_ojactx_1ctx_yhidden2\",\n",
    "    filename_runs= \"trees_asha_interleaved_ojactx_1ctx\", thetas=(-80,0,90), \n",
    "    n_runs=50, resultsdir=\"../results/\",fixtreesbug=True,axlims=8,layer=\"all_y_hidden2\",flipdims=True)"
   ]
  },
  {
   "cell_type": "code",
   "execution_count": null,
   "metadata": {},
   "outputs": [],
   "source": [
    "plotting.plot_mds(\n",
    "    filename_embedding=\"mds_embedding_trees_asha_blocked_ojactx_1ctx_yhidden\",\n",
    "    filename_runs= \"trees_asha_blocked_ojactx_1ctx\", thetas=(65,25,-270), \n",
    "    layer=\"all_y_hidden\", n_runs=50, resultsdir=\"../results/\",fixtreesbug=True,axlims=10,flipdims=True)"
   ]
  },
  {
   "cell_type": "code",
   "execution_count": null,
   "metadata": {},
   "outputs": [],
   "source": [
    "plotting.plot_mds(\n",
    "    filename_embedding=\"mds_embedding_trees_asha_blocked_ojactx_1ctx_yhidden2\",\n",
    "    filename_runs= \"trees_asha_blocked_ojactx_1ctx\", thetas=(0,40,20), \n",
    "    layer=\"all_y_hidden2\", n_runs=50, resultsdir=\"../results/\",fixtreesbug=True,axlims=15,flipdims=True)"
   ]
  },
  {
   "cell_type": "code",
   "execution_count": null,
   "metadata": {},
   "outputs": [],
   "source": [
    "plotting.plot_basicstats(models=[\"trees_asha_blocked_vanilla_1ctx\"], n_epochs=50,fixtreesbug=True,n_runs=50)"
   ]
  },
  {
   "cell_type": "code",
   "execution_count": null,
   "metadata": {},
   "outputs": [],
   "source": [
    "plotting.plot_mds(\n",
    "    filename_embedding=\"mds_embedding_trees_asha_blocked_vanilla_1ctx_yhidden\",\n",
    "    filename_runs= \"trees_asha_blocked_vanilla_1ctx\", thetas=(45,0,0), \n",
    "    layer=\"all_y_hidden\", n_runs=50, resultsdir=\"../results/\",fixtreesbug=True, axlims=5,flipdims=True)\n"
   ]
  },
  {
   "cell_type": "code",
   "execution_count": null,
   "metadata": {},
   "outputs": [],
   "source": [
    "plotting.plot_mds(\n",
    "    filename_embedding=\"mds_embedding_trees_asha_blocked_vanilla_1ctx_yhidden2\",\n",
    "    filename_runs= \"trees_asha_blocked_vanilla_1ctx\", thetas=(60,0,0), \n",
    "    n_runs=50, resultsdir=\"../results/\",fixtreesbug=True,axlims=8, layer=\"all_y_hidden2\")"
   ]
  },
  {
   "cell_type": "code",
   "execution_count": null,
   "metadata": {},
   "outputs": [],
   "source": [
    "# fit to human data + sluggishness!\n",
    "\n",
    "plotting.plot_gridsearch_group(model_int=\"trees_revision_sluggish_interleaved_oja_sv\", model_blocked=\"trees_revision_sluggish_blocked_oja_sv\",sluggish_vals = np.linspace(0.05, 1, 30))"
   ]
  },
  {
   "cell_type": "code",
   "execution_count": null,
   "metadata": {},
   "outputs": [],
   "source": [
    "# slope idx blocked: 18\n",
    "# slope idx int: 16\n",
    "# sluggishness idx blocked: 29\n",
    "# sluggish idx int: 29"
   ]
  },
  {
   "cell_type": "code",
   "execution_count": null,
   "metadata": {},
   "outputs": [],
   "source": [
    "np.round(np.linspace(0.05,1,30),2)"
   ]
  },
  {
   "cell_type": "markdown",
   "metadata": {},
   "source": [
    "### Accuracy"
   ]
  },
  {
   "cell_type": "code",
   "execution_count": null,
   "metadata": {},
   "outputs": [],
   "source": [
    "plotting.plot_modelcomparison_accuracy(\n",
    "    baseline_models=[\"trees_asha_interleaved_ojactx_1ctx\",\"trees_asha_blocked_vanilla_1ctx\"],\n",
    "    hebb_models=[\"trees_revision_sluggish_interleaved_oja_sv\",\"trees_asha_blocked_ojactx_1ctx\"],\n",
    "    sluggish_vals=np.round(np.linspace(0.05,1,30),2),sluggishness=0.51,slope_blocked=12,slope_int=12, fixtreesbug=True,flipdims=True)"
   ]
  },
  {
   "cell_type": "markdown",
   "metadata": {},
   "source": [
    "### Sigmoids"
   ]
  },
  {
   "cell_type": "code",
   "execution_count": null,
   "metadata": {},
   "outputs": [],
   "source": [
    "betas = plotting.plot_modelcomparison_sigmoids(\n",
    "    baseline_models=[\"trees_asha_interleaved_ojactx_1ctx\",\"trees_asha_blocked_vanilla_1ctx\"],\n",
    "    hebb_models=[\"trees_revision_sluggish_interleaved_oja_sv\",\"trees_asha_blocked_ojactx_1ctx\"],\n",
    "    sluggish_vals=np.round(np.linspace(0.05,1,30),2),sluggishness=0.51,slope_blocked=12,slope_int=12, fixtreesbug=True,flipdims=True)"
   ]
  },
  {
   "cell_type": "code",
   "execution_count": null,
   "metadata": {},
   "outputs": [],
   "source": [
    "plotting.plot_modelcomparison_betas(betas)"
   ]
  },
  {
   "cell_type": "markdown",
   "metadata": {},
   "source": [
    "### Choice Matrices"
   ]
  },
  {
   "cell_type": "code",
   "execution_count": null,
   "metadata": {},
   "outputs": [],
   "source": [
    "cmats = plotting.plot_modelcomparison_choicemats(\n",
    "    baseline_models=[\"trees_asha_interleaved_ojactx_1ctx\",\"trees_asha_blocked_vanilla_1ctx\"],\n",
    "    hebb_models=[\"trees_revision_sluggish_interleaved_oja_sv\",\"trees_asha_blocked_ojactx_1ctx\"],\n",
    "    sluggish_vals=np.round(np.linspace(0.05,1,30),2),sluggishness=0.51,slope_blocked=12,slope_int=12, fixtreesbug=True,flipdims=True)"
   ]
  },
  {
   "cell_type": "markdown",
   "metadata": {},
   "source": [
    "### Psychophysical Model"
   ]
  },
  {
   "cell_type": "code",
   "execution_count": null,
   "metadata": {},
   "outputs": [],
   "source": [
    "plotting.plot_modelcomparison_choicemodel(\n",
    "    baseline_models=[\"trees_asha_interleaved_ojactx_1ctx\",\"trees_asha_blocked_vanilla_1ctx\"],\n",
    "    hebb_models=[\"trees_revision_sluggish_interleaved_oja_sv\",\"trees_asha_blocked_ojactx_1ctx\"],\n",
    "    sluggish_vals=np.round(np.linspace(0.05,1,30),2),sluggishness=0.51,slope_blocked=12,slope_int=12, fixtreesbug=True,flipdims=True,resultsfile=\"thetas_est_trees\")"
   ]
  },
  {
   "cell_type": "markdown",
   "metadata": {},
   "source": [
    "### Congruency Effect"
   ]
  },
  {
   "cell_type": "code",
   "execution_count": null,
   "metadata": {},
   "outputs": [],
   "source": [
    "plotting.plot_modelcomparison_congruency(cmats)"
   ]
  }
 ],
 "metadata": {
  "kernelspec": {
   "display_name": "Python 3.8.5 ('pytorch')",
   "language": "python",
   "name": "python3"
  },
  "language_info": {
   "codemirror_mode": {
    "name": "ipython",
    "version": 3
   },
   "file_extension": ".py",
   "mimetype": "text/x-python",
   "name": "python",
   "nbconvert_exporter": "python",
   "pygments_lexer": "ipython3",
   "version": "3.8.5"
  },
  "vscode": {
   "interpreter": {
    "hash": "3a3ba60a28f1899318f4810ee01fef19e535f7a46e788980dcac9bebef4b464e"
   }
  }
 },
 "nbformat": 4,
 "nbformat_minor": 2
}

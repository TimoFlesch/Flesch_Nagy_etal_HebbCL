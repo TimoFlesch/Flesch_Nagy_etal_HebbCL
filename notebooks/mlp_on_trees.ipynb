{
 "cells": [
  {
   "cell_type": "code",
   "execution_count": 1,
   "metadata": {},
   "outputs": [],
   "source": [
    "%load_ext autoreload\n",
    "%autoreload 2\n",
    "import pickle\n",
    "import os, sys\n",
    "root_path = os.path.realpath('../')\n",
    "sys.path.append(root_path)\n",
    "\n",
    "import torch\n",
    "from pathlib import Path\n",
    "import numpy as np\n",
    "import random\n",
    "\n",
    "\n",
    "from utils.data import make_blobs_dataset\n",
    "from utils.nnet import get_device\n",
    "\n",
    "from utils.nnet import from_gpu\n",
    "from utils.eval import compute_accuracy\n",
    "from hebbcl.logger import LoggerFactory\n",
    "from hebbcl.model import ScaledNet2Hidden, ScaledNet2Hidden2Ctx\n",
    "from hebbcl.trainer import Optimiser, train_on_blobs\n",
    "from hebbcl.parameters import parser\n",
    "from hebbcl.tuner import HPOTuner"
   ]
  },
  {
   "cell_type": "code",
   "execution_count": 2,
   "metadata": {},
   "outputs": [],
   "source": [
    "from utils.data import make_trees_block, make_trees_dataset\n",
    "\n",
    "xe,ye,fe = make_trees_block(\"task_a\",do_shuffle=1,c_scaling = 1,exemplar= 12)\n",
    "\n",
    "    \n"
   ]
  },
  {
   "cell_type": "code",
   "execution_count": 3,
   "metadata": {},
   "outputs": [],
   "source": [
    "args = parser.parse_args(args=[])\n",
    "data = make_trees_dataset(args)"
   ]
  },
  {
   "cell_type": "code",
   "execution_count": 8,
   "metadata": {},
   "outputs": [
    {
     "name": "stdout",
     "output_type": "stream",
     "text": [
      "done\n"
     ]
    }
   ],
   "source": [
    "# obtain params\n",
    "args = parser.parse_args(args=[])\n",
    "\n",
    "# set checkpoint directory\n",
    "save_dir = (\n",
    "        Path(\"checkpoints\") / \"test_allhebb\"\n",
    "    ) \n",
    "\n",
    "# get device (gpu/cpu)\n",
    "args.cuda = False\n",
    "args.device = get_device(args.cuda)[0]\n",
    "# override defaults \n",
    "# args.n_features = None # todo need to change to flattened size of image\n",
    "args.n_episodes = 20\n",
    "args.n_features = 1730\n",
    "args.lrate_sgd = 0.5\n",
    "args.perform_hebb = False\n",
    "args.ctx_scaling = 2\n",
    "args.ctx_avg = False\n",
    "\n",
    "# create dataset \n",
    "dataset = make_trees_dataset(args)\n",
    "\n",
    "# instantiate model and optimiser:\n",
    "model = ScaledNet2Hidden(args)\n",
    "optimiser = Optimiser(args)\n",
    "\n",
    "# send model to device (GPU?)\n",
    "model = model.to(args.device)\n",
    "\n",
    "\n",
    "# train model\n",
    "# send data to gpu\n",
    "x_train = torch.from_numpy(dataset[\"x_train\"]).float().to(args.device)\n",
    "y_train = torch.from_numpy(dataset[\"y_train\"]).float().to(args.device)\n",
    "\n",
    "# # test: create test sets\n",
    "# x_a = torch.from_numpy(dataset[\"x_task_a\"]).float().to(args.device)\n",
    "# r_a = torch.from_numpy(dataset[\"y_task_a\"]).float().to(args.device)\n",
    "\n",
    "# x_b = torch.from_numpy(dataset[\"x_task_b\"]).float().to(args.device)\n",
    "# r_b = torch.from_numpy(dataset[\"y_task_b\"]).float().to(args.device)\n",
    "\n",
    "# x_both = (\n",
    "#     torch.from_numpy(np.concatenate((dataset[\"x_task_a\"], dataset[\"x_task_b\"]), axis=0))\n",
    "#     .float()\n",
    "#     .to(args.device)\n",
    "# )\n",
    "# r_both = (\n",
    "#     torch.from_numpy(np.concatenate((dataset[\"y_task_a\"], dataset[\"y_task_b\"]), axis=0))\n",
    "#     .float()\n",
    "#     .to(args.device)\n",
    "# )\n",
    "\n",
    "# f_both = torch.from_numpy(dataset[\"f_all\"]).float().to(args.device)\n",
    "\n",
    "\n",
    "\n",
    "# loop over data and apply optimiser\n",
    "idces = np.arange(len(x_train))\n",
    "for ii, x, y in zip(idces, x_train, y_train):    \n",
    "    optimiser.step(model, x, y)\n",
    "    # if ii % args.log_interval == 0:            \n",
    "    #     if args.verbose:\n",
    "    #         print(\n",
    "    #             \"step {}, loss: task a {:.4f}, task b {:.4f} | acc: task a {:.4f}, task b {:.4f}\".format(\n",
    "    #                 str(ii),\n",
    "    #                 from_gpu(optimiser.loss_funct(r_a, model(x_a))).ravel()[0],\n",
    "    #                 from_gpu(optimiser.loss_funct(r_b, model(x_b))).ravel()[0],\n",
    "    #                 compute_accuracy(r_a, model(x_a)),\n",
    "    #                 compute_accuracy(r_b, model(x_b)),\n",
    "    #             )\n",
    "    #         )             \n",
    "\n",
    "print(\"done\")\n"
   ]
  },
  {
   "cell_type": "code",
   "execution_count": 29,
   "metadata": {},
   "outputs": [
    {
     "name": "stdout",
     "output_type": "stream",
     "text": [
      "1730\n",
      "100\n",
      "100\n",
      "1\n"
     ]
    },
    {
     "data": {
      "text/plain": [
       "[None, None, None, None]"
      ]
     },
     "execution_count": 29,
     "metadata": {},
     "output_type": "execute_result"
    }
   ],
   "source": [
    "import matplotlib.pyplot as plt\n",
    "[print(len(x)) for x in (list(model.parameters()))]"
   ]
  },
  {
   "cell_type": "code",
   "execution_count": null,
   "metadata": {},
   "outputs": [],
   "source": []
  }
 ],
 "metadata": {
  "kernelspec": {
   "display_name": "Python 3.8.5 ('pytorch')",
   "language": "python",
   "name": "python3"
  },
  "language_info": {
   "codemirror_mode": {
    "name": "ipython",
    "version": 3
   },
   "file_extension": ".py",
   "mimetype": "text/x-python",
   "name": "python",
   "nbconvert_exporter": "python",
   "pygments_lexer": "ipython3",
   "version": "3.8.5"
  },
  "orig_nbformat": 4,
  "vscode": {
   "interpreter": {
    "hash": "3a3ba60a28f1899318f4810ee01fef19e535f7a46e788980dcac9bebef4b464e"
   }
  }
 },
 "nbformat": 4,
 "nbformat_minor": 2
}

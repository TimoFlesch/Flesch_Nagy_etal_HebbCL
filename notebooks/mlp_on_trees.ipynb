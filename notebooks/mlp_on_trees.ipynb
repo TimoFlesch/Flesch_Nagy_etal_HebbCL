{
 "cells": [
  {
   "cell_type": "code",
   "execution_count": null,
   "metadata": {},
   "outputs": [],
   "source": [
    "%load_ext autoreload\n",
    "%autoreload 2\n",
    "import pickle\n",
    "import os, sys\n",
    "root_path = os.path.realpath('../')\n",
    "sys.path.append(root_path)\n",
    "\n",
    "import torch\n",
    "from pathlib import Path\n",
    "import numpy as np\n",
    "import random\n",
    "\n",
    "\n",
    "from utils.data import make_trees_dataset\n",
    "from utils.nnet import get_device\n",
    "\n",
    "from utils.nnet import from_gpu\n",
    "from utils.eval import compute_accuracy\n",
    "from hebbcl.logger import LoggerFactory\n",
    "from hebbcl.model import ScaledNet2Hidden, ScaledNet2Hidden2Ctx, Nnet\n",
    "from hebbcl.trainer import Optimiser, train_on_trees\n",
    "from hebbcl.parameters import parser\n",
    "from hebbcl.tuner import HPOTuner"
   ]
  },
  {
   "cell_type": "code",
   "execution_count": null,
   "metadata": {},
   "outputs": [],
   "source": [
    "# obtain params\n",
    "args = parser.parse_args(args=[])\n",
    "\n",
    "# set checkpoint directory\n",
    "save_dir = (\n",
    "        Path(\"checkpoints\") / \"test_allhebb\"\n",
    "    ) \n",
    "\n",
    "# get device (gpu/cpu)\n",
    "args.cuda = False\n",
    "args.device = get_device(args.cuda)[0]\n",
    "# override defaults \n",
    "# args.n_features = None # todo need to change to flattened size of image\n",
    "args.n_episodes = 200\n",
    "args.training_schedule = \"interleaved\"\n",
    "args.n_features = 1730\n",
    "args.n_hidden = 100\n",
    "args.lrate_sgd = 0.01\n",
    "args.lrate_hebb = 0.03\n",
    "args.n_layers = 1\n",
    "args.ctx_twice = False\n",
    "args.perform_hebb = False\n",
    "args.ctx_scaling = 2\n",
    "args.ctx_avg = False\n",
    "args.centering = False\n",
    "\n",
    "# create dataset \n",
    "dataset = make_trees_dataset(args)\n",
    "\n",
    "# instantiate model and optimiser:\n",
    "model = Nnet(args)\n",
    "optimiser = Optimiser(args)\n",
    "\n",
    "# send model to device (GPU?)\n",
    "model = model.to(args.device)\n",
    "logger = LoggerFactory.create(args, save_dir=save_dir)\n",
    "\n",
    "# train model\n",
    "train_on_trees(args, model, optimiser, dataset, logger)\n",
    "print(\"done\")\n"
   ]
  },
  {
   "cell_type": "code",
   "execution_count": null,
   "metadata": {},
   "outputs": [],
   "source": [
    "logger = LoggerFactory.create(args, save_dir=save_dir)\n"
   ]
  },
  {
   "cell_type": "code",
   "execution_count": null,
   "metadata": {},
   "outputs": [],
   "source": [
    "args.n_layers"
   ]
  },
  {
   "cell_type": "code",
   "execution_count": null,
   "metadata": {},
   "outputs": [],
   "source": [
    "args.training_schedule"
   ]
  },
  {
   "cell_type": "code",
   "execution_count": null,
   "metadata": {},
   "outputs": [],
   "source": []
  }
 ],
 "metadata": {
  "kernelspec": {
   "display_name": "Python 3.8.5 ('pytorch')",
   "language": "python",
   "name": "python3"
  },
  "language_info": {
   "codemirror_mode": {
    "name": "ipython",
    "version": 3
   },
   "file_extension": ".py",
   "mimetype": "text/x-python",
   "name": "python",
   "nbconvert_exporter": "python",
   "pygments_lexer": "ipython3",
   "version": "3.8.5"
  },
  "orig_nbformat": 4,
  "vscode": {
   "interpreter": {
    "hash": "3a3ba60a28f1899318f4810ee01fef19e535f7a46e788980dcac9bebef4b464e"
   }
  }
 },
 "nbformat": 4,
 "nbformat_minor": 2
}

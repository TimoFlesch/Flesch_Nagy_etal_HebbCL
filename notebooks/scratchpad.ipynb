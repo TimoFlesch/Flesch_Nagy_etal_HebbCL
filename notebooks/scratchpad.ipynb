{
 "cells": [
  {
   "cell_type": "markdown",
   "metadata": {},
   "source": [
    "# Scratchpad for paper revisions"
   ]
  },
  {
   "cell_type": "code",
   "execution_count": 1,
   "metadata": {},
   "outputs": [],
   "source": [
    "%load_ext autoreload\n",
    "%autoreload 2\n",
    "import pickle\n",
    "import os, sys\n",
    "root_path = os.path.realpath('../')\n",
    "sys.path.append(root_path)\n",
    "\n",
    "import torch\n",
    "from pathlib import Path\n",
    "\n",
    "from utils.data import make_dataset\n",
    "from utils.nnet import get_device\n",
    "\n",
    "from hebbcl.logger import MetricLogger\n",
    "from hebbcl.model import Nnet\n",
    "from hebbcl.trainer import Optimiser, train_model\n",
    "from hebbcl.parameters import parser\n",
    "from hebbcl.tuner import HPOTuner"
   ]
  },
  {
   "cell_type": "code",
   "execution_count": null,
   "metadata": {},
   "outputs": [],
   "source": [
    "# obtain params\n",
    "args = parser.parse_args(args=[])\n",
    "\n",
    "# set checkpoint directory\n",
    "save_dir = (\n",
    "        Path(\"checkpoints\") / \"test_allhebb\"\n",
    "    ) \n",
    "\n",
    "# get device (gpu/cpu)\n",
    "args.device = get_device(args.cuda)[0]\n",
    "dict(sorted(vars(args).items(),key=lambda k: k[0]))\n"
   ]
  },
  {
   "cell_type": "markdown",
   "metadata": {},
   "source": [
    "## hyperparameter optimisation\n",
    "hpo on network trained with fewer episodes"
   ]
  },
  {
   "cell_type": "code",
   "execution_count": 4,
   "metadata": {},
   "outputs": [
    {
     "data": {
      "text/plain": [
       "{'centering': True,\n",
       " 'ctx_avg': True,\n",
       " 'ctx_avg_alpha': 1,\n",
       " 'ctx_avg_type': 'ema',\n",
       " 'ctx_avg_window': 50,\n",
       " 'ctx_scaling': 2,\n",
       " 'ctx_w_init': 0.5,\n",
       " 'ctx_weights': False,\n",
       " 'cuda': False,\n",
       " 'gating': 'oja_ctx',\n",
       " 'hebb_normaliser': 10.0,\n",
       " 'log_interval': 50,\n",
       " 'loss_funct': 'reward',\n",
       " 'lrate_hebb': 0.01,\n",
       " 'lrate_sgd': 0.01,\n",
       " 'n_episodes': 8,\n",
       " 'n_features': 27,\n",
       " 'n_hidden': 100,\n",
       " 'n_out': 1,\n",
       " 'n_runs': 50,\n",
       " 'perform_hebb': True,\n",
       " 'perform_sgd': True,\n",
       " 'save_dir': 'simu1',\n",
       " 'save_results': True,\n",
       " 'training_schedule': 'blocked',\n",
       " 'verbose': True,\n",
       " 'weight_init': 0.01}"
      ]
     },
     "execution_count": 4,
     "metadata": {},
     "output_type": "execute_result"
    }
   ],
   "source": [
    "args = parser.parse_args(args=[])\n",
    "args.n_episodes = 8\n",
    "dict(sorted(vars(args).items(),key=lambda k: k[0]))"
   ]
  },
  {
   "cell_type": "code",
   "execution_count": 5,
   "metadata": {},
   "outputs": [
    {
     "name": "stderr",
     "output_type": "stream",
     "text": [
      "2022-06-22 14:14:31,142\tINFO services.py:1374 -- View the Ray dashboard at \u001b[1m\u001b[32mhttp://127.0.0.1:8265\u001b[39m\u001b[22m\n",
      "2022-06-22 14:14:31,964\tINFO packaging.py:353 -- Creating a file package for local directory 'D:\\DPHIL_02_CONTLEARN\\paper\\codebase\\utils'.\n",
      "2022-06-22 14:14:31,989\tINFO packaging.py:222 -- Pushing file package 'gcs://_ray_pkg_f415459db55ddc24.zip' (0.12MiB) to Ray cluster...\n",
      "2022-06-22 14:14:31,994\tINFO packaging.py:225 -- Successfully pushed file package 'gcs://_ray_pkg_f415459db55ddc24.zip'.\n",
      "2022-06-22 14:14:32,031\tINFO packaging.py:353 -- Creating a file package for local directory 'D:\\DPHIL_02_CONTLEARN\\paper\\codebase\\hebbcl'.\n",
      "2022-06-22 14:14:32,054\tINFO packaging.py:222 -- Pushing file package 'gcs://_ray_pkg_3a4ab1b19a98af51.zip' (0.06MiB) to Ray cluster...\n",
      "2022-06-22 14:14:32,057\tINFO packaging.py:225 -- Successfully pushed file package 'gcs://_ray_pkg_3a4ab1b19a98af51.zip'.\n",
      "2022-06-22 14:14:32,062\tINFO packaging.py:353 -- Creating a file package for local directory '../ray_tune/'.\n",
      "2022-06-22 14:14:32,070\tINFO packaging.py:222 -- Pushing file package 'gcs://_ray_pkg_f3330b0ae3f3fee2.zip' (0.00MiB) to Ray cluster...\n",
      "2022-06-22 14:14:32,073\tINFO packaging.py:225 -- Successfully pushed file package 'gcs://_ray_pkg_f3330b0ae3f3fee2.zip'.\n"
     ]
    },
    {
     "name": "stdout",
     "output_type": "stream",
     "text": [
      "\u001b[2m\u001b[36m(pid=None)\u001b[0m 2022-06-22 14:14:34,167\tINFO working_dir.py:85 -- Setup working dir for gcs://_ray_pkg_f3330b0ae3f3fee2.zip\n"
     ]
    }
   ],
   "source": [
    "# init tuner\n",
    "tuner = HPOTuner(args, time_budget=60*30, metric=\"acc\")"
   ]
  },
  {
   "cell_type": "code",
   "execution_count": null,
   "metadata": {},
   "outputs": [],
   "source": [
    "# HPO on blocked with oja (all units)\n",
    "tuner.tune(n_samples=500)"
   ]
  },
  {
   "cell_type": "code",
   "execution_count": 22,
   "metadata": {},
   "outputs": [
    {
     "data": {
      "text/html": [
       "<div>\n",
       "<style scoped>\n",
       "    .dataframe tbody tr th:only-of-type {\n",
       "        vertical-align: middle;\n",
       "    }\n",
       "\n",
       "    .dataframe tbody tr th {\n",
       "        vertical-align: top;\n",
       "    }\n",
       "\n",
       "    .dataframe thead th {\n",
       "        text-align: right;\n",
       "    }\n",
       "</style>\n",
       "<table border=\"1\" class=\"dataframe\">\n",
       "  <thead>\n",
       "    <tr style=\"text-align: right;\">\n",
       "      <th></th>\n",
       "      <th>mean_loss</th>\n",
       "      <th>mean_acc</th>\n",
       "      <th>config.lrate_sgd</th>\n",
       "      <th>config.lrate_hebb</th>\n",
       "      <th>config.ctx_scaling</th>\n",
       "    </tr>\n",
       "    <tr>\n",
       "      <th>trial_id</th>\n",
       "      <th></th>\n",
       "      <th></th>\n",
       "      <th></th>\n",
       "      <th></th>\n",
       "      <th></th>\n",
       "    </tr>\n",
       "  </thead>\n",
       "  <tbody>\n",
       "    <tr>\n",
       "      <th>598d7_00476</th>\n",
       "      <td>-28.396252</td>\n",
       "      <td>1.000</td>\n",
       "      <td>0.092055</td>\n",
       "      <td>0.010667</td>\n",
       "      <td>4</td>\n",
       "    </tr>\n",
       "    <tr>\n",
       "      <th>598d7_00020</th>\n",
       "      <td>-27.885231</td>\n",
       "      <td>1.000</td>\n",
       "      <td>0.099934</td>\n",
       "      <td>0.013958</td>\n",
       "      <td>7</td>\n",
       "    </tr>\n",
       "    <tr>\n",
       "      <th>598d7_00077</th>\n",
       "      <td>-26.886284</td>\n",
       "      <td>1.000</td>\n",
       "      <td>0.063824</td>\n",
       "      <td>0.016840</td>\n",
       "      <td>6</td>\n",
       "    </tr>\n",
       "    <tr>\n",
       "      <th>598d7_00284</th>\n",
       "      <td>-26.722467</td>\n",
       "      <td>1.000</td>\n",
       "      <td>0.059603</td>\n",
       "      <td>0.012163</td>\n",
       "      <td>4</td>\n",
       "    </tr>\n",
       "    <tr>\n",
       "      <th>598d7_00112</th>\n",
       "      <td>-26.718370</td>\n",
       "      <td>1.000</td>\n",
       "      <td>0.085659</td>\n",
       "      <td>0.012762</td>\n",
       "      <td>3</td>\n",
       "    </tr>\n",
       "    <tr>\n",
       "      <th>598d7_00289</th>\n",
       "      <td>-25.787209</td>\n",
       "      <td>1.000</td>\n",
       "      <td>0.079369</td>\n",
       "      <td>0.027872</td>\n",
       "      <td>5</td>\n",
       "    </tr>\n",
       "    <tr>\n",
       "      <th>598d7_00015</th>\n",
       "      <td>-25.626108</td>\n",
       "      <td>0.950</td>\n",
       "      <td>0.077775</td>\n",
       "      <td>0.006568</td>\n",
       "      <td>7</td>\n",
       "    </tr>\n",
       "    <tr>\n",
       "      <th>598d7_00477</th>\n",
       "      <td>-24.990105</td>\n",
       "      <td>0.975</td>\n",
       "      <td>0.056290</td>\n",
       "      <td>0.022741</td>\n",
       "      <td>5</td>\n",
       "    </tr>\n",
       "    <tr>\n",
       "      <th>598d7_00075</th>\n",
       "      <td>-24.395048</td>\n",
       "      <td>1.000</td>\n",
       "      <td>0.067065</td>\n",
       "      <td>0.017650</td>\n",
       "      <td>5</td>\n",
       "    </tr>\n",
       "    <tr>\n",
       "      <th>598d7_00155</th>\n",
       "      <td>-24.255470</td>\n",
       "      <td>0.950</td>\n",
       "      <td>0.071253</td>\n",
       "      <td>0.005143</td>\n",
       "      <td>6</td>\n",
       "    </tr>\n",
       "    <tr>\n",
       "      <th>598d7_00455</th>\n",
       "      <td>-24.139328</td>\n",
       "      <td>0.975</td>\n",
       "      <td>0.059809</td>\n",
       "      <td>0.006852</td>\n",
       "      <td>6</td>\n",
       "    </tr>\n",
       "    <tr>\n",
       "      <th>598d7_00118</th>\n",
       "      <td>-23.804878</td>\n",
       "      <td>1.000</td>\n",
       "      <td>0.049809</td>\n",
       "      <td>0.014933</td>\n",
       "      <td>6</td>\n",
       "    </tr>\n",
       "    <tr>\n",
       "      <th>598d7_00447</th>\n",
       "      <td>-23.793903</td>\n",
       "      <td>0.975</td>\n",
       "      <td>0.057719</td>\n",
       "      <td>0.011728</td>\n",
       "      <td>2</td>\n",
       "    </tr>\n",
       "    <tr>\n",
       "      <th>598d7_00046</th>\n",
       "      <td>-23.681456</td>\n",
       "      <td>0.900</td>\n",
       "      <td>0.090057</td>\n",
       "      <td>0.003404</td>\n",
       "      <td>1</td>\n",
       "    </tr>\n",
       "    <tr>\n",
       "      <th>598d7_00021</th>\n",
       "      <td>-22.913235</td>\n",
       "      <td>0.850</td>\n",
       "      <td>0.088895</td>\n",
       "      <td>0.003391</td>\n",
       "      <td>1</td>\n",
       "    </tr>\n",
       "  </tbody>\n",
       "</table>\n",
       "</div>"
      ],
      "text/plain": [
       "             mean_loss  mean_acc  config.lrate_sgd  config.lrate_hebb  \\\n",
       "trial_id                                                                \n",
       "598d7_00476 -28.396252     1.000          0.092055           0.010667   \n",
       "598d7_00020 -27.885231     1.000          0.099934           0.013958   \n",
       "598d7_00077 -26.886284     1.000          0.063824           0.016840   \n",
       "598d7_00284 -26.722467     1.000          0.059603           0.012163   \n",
       "598d7_00112 -26.718370     1.000          0.085659           0.012762   \n",
       "598d7_00289 -25.787209     1.000          0.079369           0.027872   \n",
       "598d7_00015 -25.626108     0.950          0.077775           0.006568   \n",
       "598d7_00477 -24.990105     0.975          0.056290           0.022741   \n",
       "598d7_00075 -24.395048     1.000          0.067065           0.017650   \n",
       "598d7_00155 -24.255470     0.950          0.071253           0.005143   \n",
       "598d7_00455 -24.139328     0.975          0.059809           0.006852   \n",
       "598d7_00118 -23.804878     1.000          0.049809           0.014933   \n",
       "598d7_00447 -23.793903     0.975          0.057719           0.011728   \n",
       "598d7_00046 -23.681456     0.900          0.090057           0.003404   \n",
       "598d7_00021 -22.913235     0.850          0.088895           0.003391   \n",
       "\n",
       "             config.ctx_scaling  \n",
       "trial_id                         \n",
       "598d7_00476                   4  \n",
       "598d7_00020                   7  \n",
       "598d7_00077                   6  \n",
       "598d7_00284                   4  \n",
       "598d7_00112                   3  \n",
       "598d7_00289                   5  \n",
       "598d7_00015                   7  \n",
       "598d7_00477                   5  \n",
       "598d7_00075                   5  \n",
       "598d7_00155                   6  \n",
       "598d7_00455                   6  \n",
       "598d7_00118                   6  \n",
       "598d7_00447                   2  \n",
       "598d7_00046                   1  \n",
       "598d7_00021                   1  "
      ]
     },
     "execution_count": 22,
     "metadata": {},
     "output_type": "execute_result"
    }
   ],
   "source": [
    "# tuner.results.sort_values(\"mean_acc\",ascending=False).head(20)\n",
    "df = tuner.results\n",
    "df = df[[\"mean_loss\", \"mean_acc\", \"config.lrate_sgd\",\"config.lrate_hebb\", \"config.ctx_scaling\",\"done\"]]\n",
    "df = df[df[\"done\"]==True]\n",
    "df = df.drop(columns=[\"done\"])\n",
    "df = df.dropna()\n",
    "df = df.sort_values(\"mean_loss\",ascending=True)\n",
    "\n",
    "df.reset_index()\n",
    "df.head(15)"
   ]
  },
  {
   "cell_type": "code",
   "execution_count": null,
   "metadata": {},
   "outputs": [],
   "source": [
    "tuner.best_cfg"
   ]
  },
  {
   "cell_type": "code",
   "execution_count": 8,
   "metadata": {},
   "outputs": [],
   "source": [
    "# with open(\"../results/raytune_oja_ctx_blocked_8episodes.pkl\", \"wb\") as f:\n",
    "#     pickle.dump(df, f)"
   ]
  },
  {
   "cell_type": "markdown",
   "metadata": {},
   "source": [
    "### verify results"
   ]
  },
  {
   "cell_type": "code",
   "execution_count": 11,
   "metadata": {},
   "outputs": [
    {
     "name": "stdout",
     "output_type": "stream",
     "text": [
      "step 0, loss: task a -0.4537, task b -0.0139 | acc: task a 0.5000, task b 0.4500\n",
      "... n_a: 3 n_b: 1\n",
      "step 50, loss: task a -9.4825, task b -0.2499 | acc: task a 1.0000, task b 0.6000\n",
      "... n_a: 3 n_b: 1\n",
      "step 100, loss: task a -13.1450, task b -0.0947 | acc: task a 1.0000, task b 0.6000\n",
      "... n_a: 3 n_b: 0\n",
      "step 150, loss: task a -14.0822, task b -0.0061 | acc: task a 1.0000, task b 0.5000\n",
      "... n_a: 6 n_b: 0\n",
      "step 200, loss: task a -14.4364, task b -0.0197 | acc: task a 1.0000, task b 0.5000\n",
      "... n_a: 8 n_b: 0\n",
      "step 250, loss: task a -13.3495, task b -4.8696 | acc: task a 1.0000, task b 0.6500\n",
      "... n_a: 0 n_b: 0\n",
      "step 300, loss: task a -8.0196, task b -10.9904 | acc: task a 0.7000, task b 0.9000\n",
      "... n_a: 0 n_b: 1\n",
      "step 350, loss: task a -4.5937, task b -13.5154 | acc: task a 0.6000, task b 1.0000\n",
      "... n_a: 0 n_b: 2\n",
      "done\n"
     ]
    }
   ],
   "source": [
    "# obtain params\n",
    "args = parser.parse_args(args=[])\n",
    "\n",
    "# set checkpoint directory\n",
    "save_dir = (\n",
    "        Path(\"checkpoints\") / \"test_allhebb\"\n",
    "    ) \n",
    "\n",
    "# get device (gpu/cpu)\n",
    "args.device = get_device(args.cuda)[0]\n",
    "\n",
    "# override defaults \n",
    "args.n_episodes = 8\n",
    "args.lrate_hebb = 0.010667\n",
    "args.lrate_sgd = 0.092055\n",
    "args.ctx_scaling = 1\n",
    "\n",
    "dict(sorted(vars(args).items(),key=lambda k: k[0]))\n",
    "# create dataset \n",
    "dataset = make_dataset(args)\n",
    "\n",
    "# instantiate logger, model and optimiser:\n",
    "logger = MetricLogger(save_dir)\n",
    "model = Nnet(args)\n",
    "optimiser = Optimiser(args)\n",
    "\n",
    "# send model to device (GPU?)\n",
    "model = model.to(args.device)\n",
    "\n",
    "\n",
    "# train model\n",
    "train_model(args, model, optimiser, dataset, logger)"
   ]
  },
  {
   "cell_type": "code",
   "execution_count": 15,
   "metadata": {},
   "outputs": [
    {
     "name": "stdout",
     "output_type": "stream",
     "text": [
      "config: lrate_sgd: 0.0921, lrate_hebb: 0.0107, context offset: 1\n",
      "terminal accuracy: 0.80, loss: -18.11\n"
     ]
    }
   ],
   "source": [
    "print(f\"config: lrate_sgd: {args.lrate_sgd:.4f}, lrate_hebb: {args.lrate_hebb:.4f}, context offset: {args.ctx_scaling}\")\n",
    "print(f\"terminal accuracy: {logger.acc_total[-1]:.2f}, loss: {logger.losses_total[-1]:.2f}\")"
   ]
  },
  {
   "cell_type": "code",
   "execution_count": 21,
   "metadata": {},
   "outputs": [],
   "source": [
    "df = tuner.results\n"
   ]
  },
  {
   "cell_type": "code",
   "execution_count": null,
   "metadata": {},
   "outputs": [],
   "source": []
  }
 ],
 "metadata": {
  "interpreter": {
   "hash": "3a3ba60a28f1899318f4810ee01fef19e535f7a46e788980dcac9bebef4b464e"
  },
  "kernelspec": {
   "display_name": "Python 3.8.5 ('pytorch')",
   "language": "python",
   "name": "python3"
  },
  "language_info": {
   "codemirror_mode": {
    "name": "ipython",
    "version": 3
   },
   "file_extension": ".py",
   "mimetype": "text/x-python",
   "name": "python",
   "nbconvert_exporter": "python",
   "pygments_lexer": "ipython3",
   "version": "3.8.5"
  },
  "orig_nbformat": 4
 },
 "nbformat": 4,
 "nbformat_minor": 2
}

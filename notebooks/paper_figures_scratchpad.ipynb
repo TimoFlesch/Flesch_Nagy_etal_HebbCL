{
 "cells": [
  {
   "cell_type": "code",
   "execution_count": null,
   "metadata": {},
   "outputs": [],
   "source": [
    "%load_ext autoreload\n",
    "%autoreload 2\n",
    "import pickle\n",
    "import os, sys\n",
    "import numpy as np\n",
    "import seaborn as sns\n",
    "import statsmodels.api as sm\n",
    "import matplotlib.pyplot as plt\n",
    "from sklearn.linear_model import LinearRegression\n",
    "from scipy.spatial.distance import squareform,pdist\n",
    "from scipy.stats import zscore, norm, ttest_ind\n",
    "from scipy.io import loadmat\n",
    "from copy import deepcopy\n",
    "root_path = os.path.realpath('../')\n",
    "sys.path.append(root_path)\n",
    "\n",
    "from utils import eval, choicemodel, plotting, data\n",
    "from hebbcl.parameters import parser\n",
    "\n",
    "plt.rcParams['svg.fonttype'] = 'none'\n",
    "plt.rcParams['pdf.use14corefonts'] = True\n"
   ]
  },
  {
   "cell_type": "markdown",
   "metadata": {},
   "source": [
    "## Figure 1: Experiment design and baselines"
   ]
  },
  {
   "cell_type": "code",
   "execution_count": null,
   "metadata": {},
   "outputs": [],
   "source": [
    "plotting.plot_basicstats(models=[\"baseline_interleaved_new_select\", \"baseline_blocked_new_select\"])"
   ]
  },
  {
   "cell_type": "code",
   "execution_count": null,
   "metadata": {},
   "outputs": [],
   "source": [
    "plotting.plot_mds(filename_embedding=\"mds_embedding_baseline_int_new\",filename_runs= \"baseline_interleaved_new_select\", thetas=(40,0,10), layer=\"all_y_hidden\", n_runs=50, resultsdir=\"../results/\")\n"
   ]
  },
  {
   "cell_type": "code",
   "execution_count": null,
   "metadata": {},
   "outputs": [],
   "source": [
    "\n",
    "plotting.plot_mds(filename_embedding=\"mds_embedding_baseline_blocked_new\", filename_runs = \"baseline_blocked_new_select\", thetas=(-10,-10, -70), layer=\"all_y_hidden\", n_runs=50, resultsdir=\"../results/\")\n",
    "\n"
   ]
  },
  {
   "cell_type": "markdown",
   "metadata": {},
   "source": [
    "## Figure 2: The cost of interleaving"
   ]
  },
  {
   "cell_type": "code",
   "execution_count": null,
   "metadata": {},
   "outputs": [],
   "source": [
    "# choice matrix models\n",
    "\n",
    "%matplotlib inline\n",
    "_,_,cmats = eval.gen_behav_models()\n",
    "\n",
    "f,ax = plt.subplots(2,2, figsize=(2,2),dpi=300)\n",
    "for i in range(2):\n",
    "    for j in range(2):\n",
    "        ax[i,j].imshow(np.flipud(cmats[i,j,:,:]))\n",
    "        if j<1:\n",
    "            ax[i,j].set(xlabel='rel',ylabel='irrel')\n",
    "        else:\n",
    "            ax[i,j].set(xlabel='irrel',ylabel='rel')\n",
    "        ax[i,j].set_xticks([])\n",
    "        ax[i,j].set_yticks([])\n"
   ]
  },
  {
   "cell_type": "code",
   "execution_count": null,
   "metadata": {},
   "outputs": [],
   "source": [
    "# accuracy (sluggishness)\n",
    "%matplotlib inline\n",
    "\n",
    "plotting.plot_sluggish_results(filename=\"sluggish_baseline_int_select_sv\")"
   ]
  },
  {
   "cell_type": "markdown",
   "metadata": {},
   "source": [
    "## Figure 3: continual learning with manual gating"
   ]
  },
  {
   "cell_type": "code",
   "execution_count": null,
   "metadata": {},
   "outputs": [],
   "source": [
    "plotting.plot_basicstats(models = \"gated_blocked_new_select_cent\")"
   ]
  },
  {
   "cell_type": "code",
   "execution_count": null,
   "metadata": {},
   "outputs": [],
   "source": [
    "plotting.plot_mds(filename_embedding=\"mds_embedding_gated_blocked_new\",filename_runs= \"gated_blocked_new_select_cent\", thetas=(-20,-20,-150), layer=\"all_y_hidden\", n_runs=50, resultsdir=\"../results/\")\n"
   ]
  },
  {
   "cell_type": "markdown",
   "metadata": {},
   "source": [
    "## Figure 4: Hebbian learning of context weights "
   ]
  },
  {
   "cell_type": "code",
   "execution_count": null,
   "metadata": {},
   "outputs": [],
   "source": [
    "plotting.biplot_dataset(ds=\"blobs\",ctx_scaling=6)"
   ]
  },
  {
   "cell_type": "code",
   "execution_count": null,
   "metadata": {},
   "outputs": [],
   "source": [
    "plotting.plot_oja(n_hidden=1, ds=\"blobs\")"
   ]
  },
  {
   "cell_type": "code",
   "execution_count": null,
   "metadata": {},
   "outputs": [],
   "source": [
    "plotting.plot_oja(n_hidden=1, ds=\"trees\")"
   ]
  },
  {
   "cell_type": "code",
   "execution_count": null,
   "metadata": {},
   "outputs": [],
   "source": [
    "plotting.plot_basicstats(models = [\"oja_blocked_new_select_halfcenter\"])"
   ]
  },
  {
   "cell_type": "code",
   "execution_count": null,
   "metadata": {},
   "outputs": [],
   "source": [
    "plotting.plot_mds(filename_embedding = \"mds_embedding_oja_blocked_new_select_halfcenter\", \n",
    "filename_runs=\"oja_blocked_new_select_halfcenter\", thetas = (-25,305, 20))\n"
   ]
  },
  {
   "cell_type": "markdown",
   "metadata": {},
   "source": [
    "## Figure 5: Modelling human learning with Oja + EMA"
   ]
  },
  {
   "cell_type": "markdown",
   "metadata": {},
   "source": [
    "### HP Grid Search"
   ]
  },
  {
   "cell_type": "code",
   "execution_count": null,
   "metadata": {},
   "outputs": [],
   "source": [
    "# model validation: fit to idealised choice matrices \n",
    "%matplotlib inline\n",
    "_,_,mats = eval.gen_behav_models()\n",
    "tmp_b = mats[0].ravel()[:,np.newaxis]\n",
    "tmp_i = mats[1].ravel()[:,np.newaxis]\n",
    "plt.subplot(1,2,1)\n",
    "plt.imshow(tmp_b.reshape(10,5))\n",
    "plt.title('blocked model')\n",
    "plt.subplot(1,2,2)\n",
    "plt.imshow(tmp_i.reshape(10,5))\n",
    "plt.title('interleaved model')\n",
    "\n",
    "mses_b = choicemodel.gridsearch_modelparams(tmp_b, curriculum=\"blocked\")\n",
    "plt.figure()\n",
    "plt.imshow(np.fliplr(np.array(mses_b).reshape(20,20)))\n",
    "plt.xlabel('sluggishness')\n",
    "plt.ylabel('slope')\n",
    "plt.title('blocked model')\n",
    "plt.colorbar()\n",
    "mses_i = choicemodel.gridsearch_modelparams(tmp_i, curriculum=\"interleaved\")\n",
    "plt.figure()\n",
    "plt.imshow(np.fliplr(np.array(mses_i).reshape(20,20)))\n",
    "plt.xlabel('sluggishness')\n",
    "plt.ylabel('slope')\n",
    "plt.title('interleaved model')\n",
    "plt.colorbar()\n",
    "\n",
    "plt.figure(figsize=(15,5))\n",
    "plt.subplot(1,2,1)\n",
    "plt.plot(np.array(mses_b).reshape(20,20).mean(1),color='lightgreen',linestyle='-')\n",
    "plt.plot(np.array(mses_i).reshape(20,20).mean(1),color='orange',linestyle='-')\n",
    "plt.scatter(np.where(np.array(mses_b).reshape(20,20).mean(1)==np.min(np.array(mses_b).reshape(20,20).mean(1)))[0][0],np.min(np.array(mses_b).reshape(20,20).mean(1)),marker='d',s=100,color='lightgreen')\n",
    "plt.scatter(np.where(np.array(mses_i).reshape(20,20).mean(1)==np.min(np.array(mses_i).reshape(20,20).mean(1)))[0][0],np.min(np.array(mses_i).reshape(20,20).mean(1)),marker='d',s=100,color='orange')\n",
    "plt.legend(('blocked','interleaved'))\n",
    "plt.xlabel('slope')\n",
    "plt.ylabel('mse')\n",
    "plt.subplot(1,2,2)\n",
    "plt.plot(np.flip(np.array(mses_b).reshape(20,20).mean(0)),color='lightgreen',linestyle='-')\n",
    "plt.plot(np.flip(np.array(mses_i).reshape(20,20).mean(0)),color='orange',linestyle='-')\n",
    "plt.scatter(np.where(np.flip(np.array(mses_b).reshape(20,20).mean(0))==np.min(np.flip(np.array(mses_b).reshape(20,20).mean(0))))[0][0],np.min(np.flip(np.array(mses_b).reshape(20,20).mean(0))),marker='d',s=100,color='lightgreen')\n",
    "plt.scatter(np.where(np.flip(np.array(mses_i).reshape(20,20).mean(0))==np.min(np.flip(np.array(mses_i).reshape(20,20).mean(0))))[0][0],np.min(np.flip(np.array(mses_i).reshape(20,20).mean(0))),marker='d',s=100,color='orange')\n",
    "plt.legend(('blocked','interleaved'))\n",
    "plt.xlabel('sluggishness')\n",
    "plt.ylabel('mse')"
   ]
  },
  {
   "cell_type": "code",
   "execution_count": null,
   "metadata": {},
   "outputs": [],
   "source": [
    "# grid search at single subject level\n",
    "gs_results = choicemodel.wrapper_gridsearch_modelparams()\n",
    "plt.figure()\n",
    "plt.imshow(np.fliplr(gs_results['cmat_b'].reshape(-1,20,20).mean(0)))\n",
    "plt.xlabel('sluggishness')\n",
    "plt.ylabel('slope')\n",
    "plt.title('single subject lvl, blocked')\n",
    "plt.colorbar()\n",
    "\n",
    "plt.figure()\n",
    "plt.imshow(np.fliplr(gs_results['cmat_i'].reshape(-1,20,20).mean(0)))\n",
    "plt.xlabel('sluggishness')\n",
    "plt.ylabel('slope')\n",
    "plt.title('single subject lvl, interleaved')\n",
    "plt.colorbar()\n",
    "\n",
    "\n",
    "# averages\n",
    "plt.figure(figsize=(10,5))\n",
    "plt.subplot(1,2,1)\n",
    "plt.plot(gs_results['cmat_b'].reshape(-1,20,20).mean(0).mean(1),color='lightgreen',linestyle='-')\n",
    "plt.plot(gs_results['cmat_i'].reshape(-1,20,20).mean(0).mean(1),color='orange',linestyle='-')\n",
    "plt.scatter(np.where(gs_results['cmat_b'].reshape(-1,20,20).mean(0).mean(1)==np.min(gs_results['cmat_b'].reshape(-1,20,20).mean(0).mean(1)))[0][0],np.min(gs_results['cmat_b'].reshape(-1,20,20).mean(0).mean(1)),marker='d',s=100,color='lightgreen')\n",
    "plt.scatter(np.where(gs_results['cmat_i'].reshape(-1,20,20).mean(0).mean(1)==np.min(gs_results['cmat_i'].reshape(-1,20,20).mean(0).mean(1)))[0][0],np.min(gs_results['cmat_i'].reshape(-1,20,20).mean(0).mean(1)),marker='d',s=100,color='orange')\n",
    "plt.title('sigmoid slope')\n",
    "plt.xlabel('param val')\n",
    "plt.ylabel('mse')\n",
    "plt.legend(('blocked','interleaved'))\n",
    "plt.subplot(1,2,2)\n",
    "plt.plot(np.flip(gs_results['cmat_b'].reshape(-1,20,20).mean(0).mean(0)),color='lightgreen',linestyle='-')\n",
    "plt.plot(np.flip(gs_results['cmat_i'].reshape(-1,20,20).mean(0).mean(0)),color='orange',linestyle='-')\n",
    "plt.scatter(np.where(np.flip(gs_results['cmat_b'].reshape(-1,20,20).mean(0).mean(0))==np.min(np.flip(gs_results['cmat_b'].reshape(-1,20,20).mean(0).mean(0))))[0][0],np.min(np.flip(gs_results['cmat_b'].reshape(-1,20,20).mean(0).mean(0))),marker='d',s=100,color='lightgreen')\n",
    "plt.scatter(np.where(np.flip(gs_results['cmat_i'].reshape(-1,20,20).mean(0).mean(0))==np.min(np.flip(gs_results['cmat_i'].reshape(-1,20,20).mean(0).mean(0))))[0][0],np.min(np.flip(gs_results['cmat_i'].reshape(-1,20,20).mean(0).mean(0))),marker='d',s=100,color='orange')\n",
    "plt.title('sluggishness')\n",
    "plt.xlabel('param val')\n",
    "plt.ylabel('mse')\n",
    "plt.legend(('blocked','interleaved'))\n",
    "plt.tight_layout()"
   ]
  },
  {
   "cell_type": "code",
   "execution_count": null,
   "metadata": {},
   "outputs": [],
   "source": [
    "print(f\"estimated sluggishness (idx), interleaved: {np.argmin(gs_results['cmat_i'].reshape(-1,20,20).mean(0).mean(0))}\")\n",
    "print(f\"estimated sluggishness (idx), blocked: {np.argmin(gs_results['cmat_b'].reshape(-1,20,20).mean(0).mean(0))}\")\n",
    "print(f\"estimated slope (idx), interleaved: {np.argmin(gs_results['cmat_i'].reshape(-1,20,20).mean(0).mean(1))}\")\n",
    "print(f\"estimated slope (idx), blocked: {np.argmin(gs_results['cmat_b'].reshape(-1,20,20).mean(0).mean(1))}\")\n",
    "# np.logspace(np.log(0.1), np.log(4), 20)[12]"
   ]
  },
  {
   "cell_type": "code",
   "execution_count": null,
   "metadata": {},
   "outputs": [],
   "source": [
    "%matplotlib inline\n",
    "# grid search at group level \n",
    "gs_m_results = choicemodel.wrapper_gridsearch_modelparams(single_subs=False)\n",
    "plt.figure()\n",
    "plt.imshow(np.fliplr(gs_m_results['cmat_b'].reshape(-1,20,20).mean(0)))\n",
    "plt.xlabel('sluggishness')\n",
    "plt.ylabel('slope')\n",
    "plt.title('single subject lvl, blocked')\n",
    "plt.colorbar()\n",
    "\n",
    "plt.figure()\n",
    "plt.imshow(np.fliplr(gs_m_results['cmat_i'].reshape(-1,20,20).mean(0)))\n",
    "plt.xlabel('sluggishness')\n",
    "plt.ylabel('slope')\n",
    "plt.title('single subject lvl, interleaved')\n",
    "plt.colorbar()\n",
    "\n",
    "\n",
    "# averages\n",
    "plt.figure(figsize=(10,5))\n",
    "plt.subplot(1,2,1)\n",
    "plt.plot(gs_m_results['cmat_b'].reshape(-1,20,20).mean(0).mean(1),color='lightgreen',linestyle='-')\n",
    "plt.plot(gs_m_results['cmat_i'].reshape(-1,20,20).mean(0).mean(1),color='orange',linestyle='-')\n",
    "plt.scatter(np.where(gs_m_results['cmat_b'].reshape(-1,20,20).mean(0).mean(1)==np.min(gs_m_results['cmat_b'].reshape(-1,20,20).mean(0).mean(1)))[0][0],np.min(gs_m_results['cmat_b'].reshape(-1,20,20).mean(0).mean(1)),marker='d',s=100,color='lightgreen')\n",
    "plt.scatter(np.where(gs_m_results['cmat_i'].reshape(-1,20,20).mean(0).mean(1)==np.min(gs_m_results['cmat_i'].reshape(-1,20,20).mean(0).mean(1)))[0][0],np.min(gs_m_results['cmat_i'].reshape(-1,20,20).mean(0).mean(1)),marker='d',s=100,color='orange')\n",
    "plt.title('sigmoid slope')\n",
    "plt.xlabel('param val')\n",
    "plt.ylabel('mse')\n",
    "plt.legend(('blocked','interleaved'))\n",
    "plt.subplot(1,2,2)\n",
    "plt.plot(np.flip(gs_m_results['cmat_b'].reshape(-1,20,20).mean(0).mean(0)),color='lightgreen',linestyle='-')\n",
    "plt.plot(np.flip(gs_m_results['cmat_i'].reshape(-1,20,20).mean(0).mean(0)),color='orange',linestyle='-')\n",
    "plt.scatter(np.where(np.flip(gs_m_results['cmat_b'].reshape(-1,20,20).mean(0).mean(0))==np.min(np.flip(gs_m_results['cmat_b'].reshape(-1,20,20).mean(0).mean(0))))[0][0],np.min(np.flip(gs_m_results['cmat_b'].reshape(-1,20,20).mean(0).mean(0))),marker='d',s=100,color='lightgreen')\n",
    "plt.scatter(np.where(np.flip(gs_m_results['cmat_i'].reshape(-1,20,20).mean(0).mean(0))==np.min(np.flip(gs_m_results['cmat_i'].reshape(-1,20,20).mean(0).mean(0))))[0][0],np.min(np.flip(gs_m_results['cmat_i'].reshape(-1,20,20).mean(0).mean(0))),marker='d',s=100,color='orange')\n",
    "plt.title('sluggishness')\n",
    "plt.xlabel('param val')\n",
    "plt.ylabel('mse')\n",
    "plt.legend(('blocked','interleaved'))\n",
    "plt.tight_layout()"
   ]
  },
  {
   "cell_type": "code",
   "execution_count": null,
   "metadata": {},
   "outputs": [],
   "source": [
    "print(f\"estimated sluggishness (idx), interleaved: {np.argmin(gs_m_results['cmat_i'].reshape(20,20).mean(0))}\")\n",
    "print(f\"estimated sluggishness (idx), blocked: {np.argmin(gs_m_results['cmat_b'].reshape(20,20).mean(0))}\")\n",
    "print(f\"estimated slope (idx), interleaved: {np.argmin(gs_m_results['cmat_i'].reshape(20,20).mean(1))}\")\n",
    "print(f\"estimated slope (idx), blocked: {np.argmin(gs_m_results['cmat_b'].reshape(20,20).mean(1))}\")"
   ]
  },
  {
   "cell_type": "markdown",
   "metadata": {},
   "source": [
    "### Accuracy"
   ]
  },
  {
   "cell_type": "code",
   "execution_count": null,
   "metadata": {},
   "outputs": [],
   "source": [
    "n_runs = 20\n",
    "idx = 1\n",
    "tempval_interleaved = 12\n",
    "cmats_a = []\n",
    "cmats_b = []\n",
    "for r in np.arange(0, n_runs):\n",
    "    with open(\n",
    "        \"../checkpoints/sluggish_oja_int_select_sv\"\n",
    "        + str(idx)\n",
    "        + \"/run_\"\n",
    "        + str(r)\n",
    "        + \"/results.pkl\",\n",
    "        \"rb\",\n",
    "    ) as f:\n",
    "        results = pickle.load(f)\n",
    "        cc = np.clip(results[\"all_y_out\"][1, :], -709.78, 709.78).astype(np.float64)\n",
    "        choices = 1 / (1 + np.exp(-cc))\n",
    "        choices = choicemodel.choice_sigmoid(cc,T=tempval_interleaved)\n",
    "        cmats_a.append(choices[:25].reshape(5, 5))\n",
    "        cmats_b.append(choices[25:].reshape(5, 5))\n",
    "\n",
    "cmats_a = np.array(cmats_a).mean(0)\n",
    "cmats_b = np.array(cmats_b).mean(0)\n",
    "plt.figure()\n",
    "plt.subplot(1,2,1)\n",
    "plt.imshow(cmats_a)\n",
    "plt.colorbar()\n",
    "plt.subplot(1,2,2)\n",
    "plt.imshow(cmats_b)\n",
    "plt.colorbar()\n",
    "acc_est = choicemodel.compute_sampled_accuracy(cmats_a, cmats_b)\n",
    "print(f\"accuracy blocked: {acc_est:.2f}\")\n"
   ]
  },
  {
   "cell_type": "code",
   "execution_count": null,
   "metadata": {},
   "outputs": [],
   "source": [
    "plotting.plot_modelcomparison_accuracy()"
   ]
  },
  {
   "cell_type": "markdown",
   "metadata": {},
   "source": [
    "### Sigmoids"
   ]
  },
  {
   "cell_type": "code",
   "execution_count": null,
   "metadata": {},
   "outputs": [],
   "source": [
    "betas = plotting.plot_modelcomparison_sigmoids()"
   ]
  },
  {
   "cell_type": "code",
   "execution_count": null,
   "metadata": {},
   "outputs": [],
   "source": [
    "plotting.plot_modelcomparison_betas(betas)"
   ]
  },
  {
   "cell_type": "markdown",
   "metadata": {},
   "source": [
    "### Choice Matrices"
   ]
  },
  {
   "cell_type": "code",
   "execution_count": null,
   "metadata": {},
   "outputs": [],
   "source": [
    "cmats = plotting.plot_modelcomparison_choicemats()"
   ]
  },
  {
   "cell_type": "markdown",
   "metadata": {},
   "source": [
    "### Psychophysical Model"
   ]
  },
  {
   "cell_type": "code",
   "execution_count": null,
   "metadata": {},
   "outputs": [],
   "source": [
    "plotting.plot_modelcomparison_choicemodel()"
   ]
  },
  {
   "cell_type": "markdown",
   "metadata": {},
   "source": [
    "### Congruency Effect"
   ]
  },
  {
   "cell_type": "code",
   "execution_count": null,
   "metadata": {},
   "outputs": [],
   "source": [
    "plotting.plot_modelcomparison_congruency(cmats)"
   ]
  },
  {
   "cell_type": "markdown",
   "metadata": {},
   "source": [
    "## Figure 6: Neural predictions"
   ]
  },
  {
   "cell_type": "markdown",
   "metadata": {},
   "source": [
    "### Hidden Layer RSA\n",
    "Fit grid, orthogonal and diagonal model to data.  \n",
    "Prediction: Orthogonal best in blocked, diagonal best in interleaved group"
   ]
  },
  {
   "cell_type": "code",
   "execution_count": null,
   "metadata": {},
   "outputs": [],
   "source": [
    "n_runs = 20\n",
    "sluggish_vals = np.round(np.linspace(0.05,1,20),2)\n",
    "alpha = 0.05\n",
    "idx = np.where(alpha==sluggish_vals)[0][0]\n",
    "\n",
    "betas_blocked = []\n",
    "betas_int = []\n",
    "rdms, dmat = eval.gen_modelrdms(ctx_offset=1)\n",
    "\n",
    "\n",
    "for r in np.arange(0,n_runs):\n",
    "    with open('../checkpoints/oja_blocked_new_select_halfcenter/run_' + str(r) +'/results.pkl','rb') as f:\n",
    "        results = pickle.load(f)\n",
    "    y = zscore(squareform(pdist(results['all_y_hidden'][1,:,:]))[np.tril_indices(50, k=-1)]).flatten()\n",
    "    lr = LinearRegression()\n",
    "    lr.fit(dmat,y)\n",
    "    betas_blocked.append(lr.coef_)\n",
    "betas_blocked = np.asarray(betas_blocked)\n",
    "\n",
    "\n",
    "for r in np.arange(0,n_runs):\n",
    "    with open('../checkpoints/sluggish_oja_int_select_sv'+ str(idx) +'/run_' + str(r) +'/results.pkl','rb') as f:\n",
    "        results = pickle.load(f)\n",
    "    y = zscore(squareform(pdist(results['all_y_hidden'][1,:,:]))[np.tril_indices(50, k=-1)]).flatten()\n",
    "    lr = LinearRegression()\n",
    "    lr.fit(dmat,y)\n",
    "    betas_int.append(lr.coef_)\n",
    "betas_int = np.asarray(betas_int)"
   ]
  },
  {
   "cell_type": "code",
   "execution_count": null,
   "metadata": {},
   "outputs": [],
   "source": [
    "%matplotlib inline\n",
    "f, axs = plt.subplots(1,1,figsize=(2,2), dpi = 300)\n",
    "\n",
    "b1 = axs.bar(0-0.2,betas_blocked[:,0].mean(0),yerr=np.std(betas_blocked[:,0],0)/np.sqrt(n_runs),color=(39/255, 140/255, 145/255),width=0.2)\n",
    "b2 = axs.bar(0,betas_blocked[:,1].mean(0),yerr=np.std(betas_blocked[:,1],0)/np.sqrt(n_runs),color=(34/255, 76/255, 128/255),width=0.2)\n",
    "b3 = axs.bar(0+0.2,betas_blocked[:,2].mean(0),yerr=np.std(betas_blocked[:,2],0)/np.sqrt(n_runs),color=(159/255, 45/255, 235/255),width=0.2)\n",
    "\n",
    "b1 = axs.bar(1-0.2,betas_int[:,0].mean(0),yerr=np.std(betas_int[:,0],0)/np.sqrt(n_runs),color=(39/255, 140/255, 145/255),width=0.2)\n",
    "b2 = axs.bar(1,betas_int[:,1].mean(0),yerr=np.std(betas_int[:,1],0)/np.sqrt(n_runs),color=(34/255, 76/255, 128/255),width=0.2)\n",
    "b3 = axs.bar(1+0.2,betas_int[:,2].mean(0),yerr=np.std(betas_int[:,2],0)/np.sqrt(n_runs),color=(159/255, 45/255, 235/255),width=0.2)\n",
    "axs.set_xticks((0,1))\n",
    "axs.set_yticks((0,0.25,0.5,0.75,1))\n",
    "axs.set_xticklabels(('blocked','interleaved'),rotation=0,fontsize=6)\n",
    "axs.set_yticklabels([0,0.25,0.5,0.75,1],fontsize=6)\n",
    "axs.set_title('Model RSA, Hidden Layer',fontsize=6)\n",
    "axs.set_ylabel(r'$\\beta$ estimate (a.u.)',fontsize=6)\n",
    "axs.legend([b1,b2,b3],['grid','orthogonal','diagonal'],fontsize=6,frameon=False)\n",
    "\n",
    "res = ttest_ind(betas_blocked[:,0].ravel(),betas_blocked[:,1].ravel())\n",
    "z = res.statistic\n",
    "print(f\"blocked grid vs orth: t={z:.2f}, p={res.pvalue:.4f}\")\n",
    "if res.pvalue >= 0.05:\n",
    "    sigstar ='n.s.'\n",
    "elif res.pvalue < 0.001:\n",
    "    sigstar ='*'*3\n",
    "elif res.pvalue < 0.01:\n",
    "    sigstar ='*'*2\n",
    "elif res.pvalue <0.05:\n",
    "    sigstar ='*'\n",
    "plt.plot([-0.2,0],[0.75,0.75],'k-', linewidth=1)\n",
    "plt.text(-0.1,0.75,sigstar,ha='center',fontsize=6)\n",
    "\n",
    "res = ttest_ind(betas_blocked[:,1].ravel(),betas_blocked[:,2].ravel())\n",
    "z = res.statistic\n",
    "print(f\"blocked orth vs diag: t={z:.2f}, p={res.pvalue:.4f}\")\n",
    "if res.pvalue >= 0.05:\n",
    "    sigstar ='n.s.'\n",
    "elif res.pvalue < 0.001:\n",
    "    sigstar ='*'*3\n",
    "elif res.pvalue < 0.01:\n",
    "    sigstar ='*'*2\n",
    "elif res.pvalue <0.05:\n",
    "    sigstar ='*'\n",
    "plt.plot([0, 0.2],[0.7,0.7],'k-', linewidth=1)\n",
    "plt.text(0.1,0.7,sigstar,ha='center',fontsize=6)\n",
    "\n",
    "res = ttest_ind(betas_int[:,0].ravel(),betas_int[:,2].ravel())\n",
    "z = res.statistic\n",
    "print(f\"int grid vs diag: t={z:.2f}, p={res.pvalue:.4f}\")\n",
    "if res.pvalue >= 0.05:\n",
    "    sigstar ='n.s.'\n",
    "elif res.pvalue < 0.001:\n",
    "    sigstar ='*'*3\n",
    "elif res.pvalue < 0.01:\n",
    "    sigstar ='*'*2\n",
    "elif res.pvalue <0.05:\n",
    "    sigstar ='*'\n",
    "plt.plot([0.8,1.2],[0.94,0.94],'k-', linewidth=1)\n",
    "plt.text(1,0.94,sigstar,ha='center',fontsize=6)\n",
    "\n",
    "res = ttest_ind(betas_int[:,1].ravel(),betas_int[:,2].ravel())\n",
    "z = res.statistic\n",
    "print(f\"int orth vs diag: t={z:.2f}, p={res.pvalue:.4f}\")\n",
    "if res.pvalue >= 0.05:\n",
    "    sigstar ='n.s.'\n",
    "elif res.pvalue < 0.001:\n",
    "    sigstar ='*'*3\n",
    "elif res.pvalue < 0.01:\n",
    "    sigstar ='*'*2\n",
    "elif res.pvalue <0.05:\n",
    "    sigstar ='*'\n",
    "plt.plot([1,1.2],[0.88,0.88],'k-', linewidth=1)\n",
    "plt.text(1.1,0.88,sigstar,ha='center',fontsize=6)\n",
    "\n",
    "\n",
    "sns.despine()\n",
    "plt.tight_layout()"
   ]
  },
  {
   "cell_type": "markdown",
   "metadata": {},
   "source": [
    "### Task Selectivity (%)"
   ]
  },
  {
   "cell_type": "code",
   "execution_count": null,
   "metadata": {},
   "outputs": [],
   "source": [
    "blocked_n_only_a = []\n",
    "blocked_n_only_b = []\n",
    "blocked_n_mixed = []\n",
    "for r in np.arange(0, n_runs):\n",
    "    with open(\n",
    "        \"../checkpoints/oja_blocked_new_select/run_\" + str(r) + \"/results.pkl\", \"rb\"\n",
    "    ) as f:\n",
    "        results = pickle.load(f)\n",
    "    blocked_n_only_a.append(results[\"n_only_a_regr\"][-1])\n",
    "    blocked_n_only_b.append(results[\"n_only_b_regr\"][-1])\n",
    "    blocked_n_mixed.append(100 - blocked_n_only_a[-1] - blocked_n_only_b[-1])\n",
    "\n",
    "blocked_n_only_a = np.asarray(blocked_n_only_a)\n",
    "blocked_n_only_b = np.asarray(blocked_n_only_b)\n",
    "blocked_n_mixed = np.asarray(blocked_n_mixed)\n",
    "print(f\"blocked, task-specific: {blocked_n_only_a.mean()+blocked_n_only_b.mean()}\")\n",
    "print(f\"blocked, task-agnostic: {blocked_n_mixed.mean()}\")\n",
    "int_n_only_a = []\n",
    "int_n_only_b = []\n",
    "int_n_mixed = []\n",
    "for r in np.arange(0, n_runs):\n",
    "    with open(\n",
    "        \"../checkpoints/sluggish_oja_int_select_sv\"\n",
    "        + str(idx)\n",
    "        + \"/run_\"\n",
    "        + str(r)\n",
    "        + \"/results.pkl\",\n",
    "        \"rb\",\n",
    "    ) as f:\n",
    "        results = pickle.load(f)\n",
    "    int_n_only_a.append(results[\"n_only_a_regr\"][-1])\n",
    "    int_n_only_b.append(results[\"n_only_b_regr\"][-1])\n",
    "    int_n_mixed.append(100 - int_n_only_a[-1] - int_n_only_b[-1])\n",
    "\n",
    "int_n_only_a = np.asarray(int_n_only_a)\n",
    "int_n_only_b = np.asarray(int_n_only_b)\n",
    "int_n_mixed = np.asarray(int_n_mixed)\n",
    "print(f\"int, task-specific: {int_n_only_a.mean()+int_n_only_b.mean()}\")\n",
    "print(f\"int, task-agnostic: {int_n_mixed.mean()}\")\n",
    "n_a = np.stack((blocked_n_only_a, int_n_only_a), axis=1)\n",
    "n_b = np.stack((blocked_n_only_b, int_n_only_b), axis=1)\n",
    "n_m = np.stack((blocked_n_mixed, int_n_mixed), axis=1)\n",
    "f, ax = plt.subplots(figsize=(2, 2), dpi=300)\n",
    "b1 = ax.bar(\n",
    "    [\"blocked\", \"interleaved\"],\n",
    "    n_a.mean(0),\n",
    "    yerr=np.std(n_a, 0, ddof=1) / np.sqrt(n_runs),\n",
    "    width=0.2,\n",
    ")\n",
    "b2 = ax.bar(\n",
    "    [\"blocked\", \"interleaved\"],\n",
    "    n_b.mean(0),\n",
    "    yerr=np.std(n_a, 0, ddof=1) / np.sqrt(n_runs),\n",
    "    bottom=n_a.mean(0),\n",
    "    width=0.2,\n",
    ")\n",
    "b3 = ax.bar(\n",
    "    [\"blocked\", \"interleaved\"],\n",
    "    n_m.mean(0),\n",
    "    yerr=np.std(n_a, 0, ddof=1) / np.sqrt(n_runs),\n",
    "    bottom=n_b.mean(0) + n_a.mean(0),\n",
    "    width=0.2,\n",
    ")\n",
    "ax.set_ylabel(\"hidden units (%)\", fontsize=6)\n",
    "ax.legend(\n",
    "    [b1, b2, b3],\n",
    "    [\"1st task, rel. dim.\", \"2nd task, rel. dim.\", \"task agnostic\"],\n",
    "    fontsize=6,\n",
    "    frameon=False,\n",
    ")\n",
    "ax.set_title(\"Hidden Unit Selectivity\", fontsize=6)\n",
    "sns.despine()\n",
    "\n",
    "for item in (\n",
    "    [ax.title, ax.xaxis.label, ax.yaxis.label]\n",
    "    + ax.get_xticklabels()\n",
    "    + ax.get_yticklabels()\n",
    "    + ax.get_legend().get_texts()\n",
    "):\n",
    "    item.set_fontsize(6)\n"
   ]
  },
  {
   "cell_type": "markdown",
   "metadata": {},
   "source": [
    "### Readout Magnitude"
   ]
  },
  {
   "cell_type": "code",
   "execution_count": null,
   "metadata": {},
   "outputs": [],
   "source": [
    "import torch\n",
    "from utils.eval import make_dmat\n",
    "\n",
    "n_runs = 20\n",
    "sluggish_vals = np.round(np.linspace(0.05,1,20),2)\n",
    "alpha = 0.05\n",
    "idx = np.where(alpha==sluggish_vals)[0][0]\n",
    "data = eval.make_blobs_dataset()\n",
    "\n",
    "dmat = make_dmat(data['f_all'])\n",
    "\n",
    "readout_magnitude = np.empty((50,3))\n",
    "for r in np.arange(0, n_runs):\n",
    "    with open(\n",
    "        \"../checkpoints/sluggish_oja_int_select_sv\"\n",
    "        + str(idx)\n",
    "        + \"/run_\"\n",
    "        + str(r)\n",
    "        + \"/results.pkl\",\n",
    "        \"rb\",\n",
    "    ) as f:\n",
    "        results = pickle.load(f)\n",
    "\n",
    "    yh = results['all_y_hidden'][1,:,:]\n",
    "    selectivity_matrix = np.zeros((100, 6))\n",
    "    for i_neuron in range(100):\n",
    "        y_neuron = yh[:, i_neuron]\n",
    "        lr = sm.OLS(zscore(y_neuron), dmat)\n",
    "        regr_results = lr.fit()\n",
    "        # if only a single regressor is significant, store that neuron's selectivity\n",
    "        if np.sum(regr_results.tvalues > 1.96) == 1:\n",
    "            selectivity_matrix[\n",
    "                i_neuron,\n",
    "                np.where(regr_results.tvalues == np.max(regr_results.tvalues))[0][\n",
    "                    0\n",
    "                ],\n",
    "            ] = 1\n",
    "    i_task_a = (\n",
    "        (selectivity_matrix[:, 0] == 0)\n",
    "        & (selectivity_matrix[:, 1] == 1)\n",
    "        & (selectivity_matrix[:, 2] == 0)\n",
    "        & (selectivity_matrix[:, 3] == 0)\n",
    "    )\n",
    "    i_task_b = (\n",
    "        (selectivity_matrix[:, 0] == 0)\n",
    "        & (selectivity_matrix[:, 1] == 0)\n",
    "        & (selectivity_matrix[:, 2] == 1)\n",
    "        & (selectivity_matrix[:, 3] == 0)\n",
    "    )\n",
    "\n",
    "    with open(\n",
    "            \"../checkpoints/sluggish_oja_int_select_sv\"\n",
    "            + str(idx)\n",
    "            + \"/run_\"\n",
    "            + str(r)\n",
    "            + \"/model.pkl\",\n",
    "            \"rb\",\n",
    "        ) as f:\n",
    "            model = pickle.load(f)\n",
    "    wo = model.W_o.cpu().detach().numpy()\n",
    "    \n",
    "    readout_magnitude[r,0] = np.abs(wo[i_task_a]).mean() if sum(i_task_a) !=0 else 0\n",
    "    readout_magnitude[r,1] = np.abs(wo[i_task_b]).mean() if sum(i_task_b) !=0 else 0\n",
    "    readout_magnitude[r,2] = np.abs(wo[~((i_task_a==True) | (i_task_b==True))]).mean()\n",
    "readout_magnitude_int = readout_magnitude\n"
   ]
  },
  {
   "cell_type": "code",
   "execution_count": null,
   "metadata": {},
   "outputs": [],
   "source": [
    "import sys\n",
    "sys.path.append(r'../hebbcl/')\n",
    "\n",
    "\n",
    "with open(\n",
    "    \"../checkpoints/oja_blocked_new_select/run_\" + str(r) + \"/results.pkl\", \"rb\"\n",
    ") as f:\n",
    "    results = pickle.load(f)\n",
    "\n",
    "\n",
    "import torch\n",
    "from utils.eval import make_dmat\n",
    "\n",
    "\n",
    "data = eval.make_blobs_dataset()\n",
    "\n",
    "dmat = make_dmat(data[\"f_all\"])\n",
    "\n",
    "readout_magnitude = np.empty((50, 3))\n",
    "for r in np.arange(0, n_runs):\n",
    "    with open(\n",
    "        \"../checkpoints/oja_blocked_new_select_halfcenter/run_\" + str(r) + \"/results.pkl\",\n",
    "        \"rb\",\n",
    "    ) as f:\n",
    "        results = pickle.load(f)\n",
    "\n",
    "    yh = results[\"all_y_hidden\"][1, :, :]\n",
    "    selectivity_matrix = np.zeros((100, 6))\n",
    "    for i_neuron in range(100):\n",
    "        y_neuron = yh[:, i_neuron]\n",
    "        lr = sm.OLS(zscore(y_neuron), dmat)\n",
    "        regr_results = lr.fit()\n",
    "        # if only a single regressor is significant, store that neuron's selectivity\n",
    "        if np.sum(regr_results.tvalues > 1.96) == 1:\n",
    "            selectivity_matrix[\n",
    "                i_neuron,\n",
    "                np.where(regr_results.tvalues == np.max(regr_results.tvalues))[0][0],\n",
    "            ] = 1\n",
    "    i_task_a = (\n",
    "        (selectivity_matrix[:, 0] == 0)\n",
    "        & (selectivity_matrix[:, 1] == 1)\n",
    "        & (selectivity_matrix[:, 2] == 0)\n",
    "        & (selectivity_matrix[:, 3] == 0)\n",
    "    )\n",
    "    i_task_b = (\n",
    "        (selectivity_matrix[:, 0] == 0)\n",
    "        & (selectivity_matrix[:, 1] == 0)\n",
    "        & (selectivity_matrix[:, 2] == 1)\n",
    "        & (selectivity_matrix[:, 3] == 0)\n",
    "    )\n",
    "\n",
    "    with open(\"../checkpoints/oja_blocked_new_select_halfcenter/run_\" + str(r) + \"/model.pkl\", \"rb\") as f:\n",
    "        model = pickle.load(f)\n",
    "    \n",
    "    wo = model.W_o.cpu().detach().numpy()\n",
    "\n",
    "    readout_magnitude[r, 0] = np.abs(wo[i_task_a]).mean() if sum(i_task_a) != 0 else 0\n",
    "    readout_magnitude[r, 1] = np.abs(wo[i_task_b]).mean() if sum(i_task_b) != 0 else 0\n",
    "    readout_magnitude[r, 2] = np.abs(\n",
    "        wo[~((i_task_a == True) | (i_task_b == True))]\n",
    "    ).mean()\n",
    "\n",
    "readout_magnitude_blocked = readout_magnitude\n"
   ]
  },
  {
   "cell_type": "code",
   "execution_count": null,
   "metadata": {},
   "outputs": [],
   "source": [
    "f, axs = plt.subplots(1,1,figsize=(2,2), dpi = 300)\n",
    "\n",
    "b1 = axs.bar(0-0.2,readout_magnitude_blocked[:,0].mean(0),yerr=np.std(readout_magnitude_blocked[:,0],0)/np.sqrt(50),color=(39/255, 140/255, 145/255),width=0.2)\n",
    "b2 = axs.bar(0,readout_magnitude_blocked[:,1].mean(0),yerr=np.std(readout_magnitude_blocked[:,1],0)/np.sqrt(50),color=(34/255, 76/255, 128/255),width=0.2)\n",
    "b3 = axs.bar(0+0.2,readout_magnitude_blocked[:,2].mean(0),yerr=np.std(readout_magnitude_blocked[:,2],0)/np.sqrt(50),color=(159/255, 45/255, 235/255),width=0.2)\n",
    "\n",
    "b1 = axs.bar(1-0.2,readout_magnitude_int[:,0].mean(0),yerr=np.std(readout_magnitude_int[:,0],0)/np.sqrt(20),color=(39/255, 140/255, 145/255),width=0.2)\n",
    "b2 = axs.bar(1,readout_magnitude_int[:,1].mean(0),yerr=np.std(readout_magnitude_int[:,1],0)/np.sqrt(20),color=(34/255, 76/255, 128/255),width=0.2)\n",
    "b3 = axs.bar(1+0.2,readout_magnitude_int[:,2].mean(0),yerr=np.std(readout_magnitude_int[:,2],0)/np.sqrt(20),color=(159/255, 45/255, 235/255),width=0.2)\n",
    "axs.set_xticks((0,1))\n",
    "axs.set_xticklabels(('blocked','interleaved'),rotation=0,fontsize=6)\n",
    "# ticks = np.round(axs.get_yticks(),2)\n",
    "# axs.set_yticklabels(ticks,fontsize=6)\n",
    "plt.yticks(fontsize=6)\n",
    "axs.set_title('Readout Weights',fontsize=6)\n",
    "axs.set_ylabel(r'weight magnitude (a.u.)',fontsize=6)\n",
    "axs.legend([b1,b2,b3],['1st task','2nd task','task agnostic'],fontsize=6,frameon=False)\n",
    "\n",
    "res = ttest_ind(readout_magnitude_int[:,0].ravel(),readout_magnitude_int[:,2].ravel())\n",
    "z = res.statistic\n",
    "print(f\"int 1st vs agnostic: t={z:.2f}, p={res.pvalue:.4f}\")\n",
    "if res.pvalue >= 0.05:\n",
    "    sigstar ='n.s.'\n",
    "elif res.pvalue < 0.001:\n",
    "    sigstar ='*'*3\n",
    "elif res.pvalue < 0.01:\n",
    "    sigstar ='*'*2\n",
    "elif res.pvalue <0.05:\n",
    "    sigstar ='*'\n",
    "plt.plot([0.8,1.2],[0.22,0.22],'k-', linewidth=1)\n",
    "plt.text(1,0.22,sigstar,ha='center',fontsize=6)\n",
    "\n",
    "res = ttest_ind(readout_magnitude_int[:,1].ravel(),readout_magnitude_int[:,2].ravel())\n",
    "z = res.statistic\n",
    "print(f\"int 2nd vs agnostic: t={z:.2f}, p={res.pvalue:.4f}\")\n",
    "if res.pvalue >= 0.05:\n",
    "    sigstar ='n.s.'\n",
    "elif res.pvalue < 0.001:\n",
    "    sigstar ='*'*3\n",
    "elif res.pvalue < 0.01:\n",
    "    sigstar ='*'*2\n",
    "elif res.pvalue <0.05:\n",
    "    sigstar ='*'\n",
    "plt.plot([1,1.2],[0.19,0.19],'k-', linewidth=1)\n",
    "plt.text(1.1,0.19,sigstar,ha='center',fontsize=6)\n",
    "sns.despine()\n",
    "plt.tight_layout()"
   ]
  }
 ],
 "metadata": {
  "kernelspec": {
   "display_name": "Python 3.8.5 ('pytorch')",
   "language": "python",
   "name": "python3"
  },
  "language_info": {
   "codemirror_mode": {
    "name": "ipython",
    "version": 3
   },
   "file_extension": ".py",
   "mimetype": "text/x-python",
   "name": "python",
   "nbconvert_exporter": "python",
   "pygments_lexer": "ipython3",
   "version": "3.8.5"
  },
  "vscode": {
   "interpreter": {
    "hash": "3a3ba60a28f1899318f4810ee01fef19e535f7a46e788980dcac9bebef4b464e"
   }
  }
 },
 "nbformat": 4,
 "nbformat_minor": 2
}
